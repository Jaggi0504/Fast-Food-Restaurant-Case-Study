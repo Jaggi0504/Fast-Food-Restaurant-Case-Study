{
 "cells": [
  {
   "cell_type": "code",
   "execution_count": 1,
   "id": "16b36d99",
   "metadata": {},
   "outputs": [],
   "source": [
    "import pandas as pd\n",
    "import numpy as np\n",
    "import matplotlib.pyplot as plt\n",
    "import seaborn as sns\n",
    "import warnings\n",
    "warnings.filterwarnings(\"ignore\")"
   ]
  },
  {
   "cell_type": "code",
   "execution_count": 2,
   "id": "eaf064c2",
   "metadata": {},
   "outputs": [],
   "source": [
    "sales_data=pd.read_excel('./Tastyburger original data.xlsx')"
   ]
  },
  {
   "cell_type": "code",
   "execution_count": 3,
   "id": "336231a7",
   "metadata": {},
   "outputs": [
    {
     "data": {
      "text/html": [
       "<div>\n",
       "<style scoped>\n",
       "    .dataframe tbody tr th:only-of-type {\n",
       "        vertical-align: middle;\n",
       "    }\n",
       "\n",
       "    .dataframe tbody tr th {\n",
       "        vertical-align: top;\n",
       "    }\n",
       "\n",
       "    .dataframe thead th {\n",
       "        text-align: right;\n",
       "    }\n",
       "</style>\n",
       "<table border=\"1\" class=\"dataframe\">\n",
       "  <thead>\n",
       "    <tr style=\"text-align: right;\">\n",
       "      <th></th>\n",
       "      <th>Date</th>\n",
       "      <th>Day</th>\n",
       "      <th>Weekday</th>\n",
       "      <th>Hour</th>\n",
       "      <th>Minute</th>\n",
       "      <th>Meal</th>\n",
       "      <th>Total Sale</th>\n",
       "      <th>Cost</th>\n",
       "      <th>Profit</th>\n",
       "      <th>Unnamed: 9</th>\n",
       "      <th>Item</th>\n",
       "      <th>Price</th>\n",
       "      <th>Cost to make</th>\n",
       "    </tr>\n",
       "  </thead>\n",
       "  <tbody>\n",
       "    <tr>\n",
       "      <th>0</th>\n",
       "      <td>2007-11-26</td>\n",
       "      <td>2</td>\n",
       "      <td>Monday</td>\n",
       "      <td>11</td>\n",
       "      <td>50</td>\n",
       "      <td>Super Burger</td>\n",
       "      <td>4</td>\n",
       "      <td>1.6</td>\n",
       "      <td>2.4</td>\n",
       "      <td>NaN</td>\n",
       "      <td>Carbonated Beverage</td>\n",
       "      <td>1</td>\n",
       "      <td>0.1</td>\n",
       "    </tr>\n",
       "    <tr>\n",
       "      <th>1</th>\n",
       "      <td>2007-11-13</td>\n",
       "      <td>3</td>\n",
       "      <td>Tuesday</td>\n",
       "      <td>12</td>\n",
       "      <td>4</td>\n",
       "      <td>Super Burger</td>\n",
       "      <td>4</td>\n",
       "      <td>1.6</td>\n",
       "      <td>2.4</td>\n",
       "      <td>NaN</td>\n",
       "      <td>Shake</td>\n",
       "      <td>3</td>\n",
       "      <td>0.6</td>\n",
       "    </tr>\n",
       "    <tr>\n",
       "      <th>2</th>\n",
       "      <td>2007-11-20</td>\n",
       "      <td>3</td>\n",
       "      <td>Tuesday</td>\n",
       "      <td>19</td>\n",
       "      <td>18</td>\n",
       "      <td>Super Burger</td>\n",
       "      <td>4</td>\n",
       "      <td>1.6</td>\n",
       "      <td>2.4</td>\n",
       "      <td>NaN</td>\n",
       "      <td>Plain Burger</td>\n",
       "      <td>2</td>\n",
       "      <td>0.8</td>\n",
       "    </tr>\n",
       "    <tr>\n",
       "      <th>3</th>\n",
       "      <td>2007-11-27</td>\n",
       "      <td>3</td>\n",
       "      <td>Tuesday</td>\n",
       "      <td>15</td>\n",
       "      <td>26</td>\n",
       "      <td>Super Stacker Coronary Burger</td>\n",
       "      <td>7</td>\n",
       "      <td>9.8</td>\n",
       "      <td>-2.8</td>\n",
       "      <td>NaN</td>\n",
       "      <td>Super Burger</td>\n",
       "      <td>4</td>\n",
       "      <td>1.6</td>\n",
       "    </tr>\n",
       "    <tr>\n",
       "      <th>4</th>\n",
       "      <td>2007-11-13</td>\n",
       "      <td>3</td>\n",
       "      <td>Tuesday</td>\n",
       "      <td>17</td>\n",
       "      <td>24</td>\n",
       "      <td>Super Stacker Coronary Burger</td>\n",
       "      <td>7</td>\n",
       "      <td>9.8</td>\n",
       "      <td>-2.8</td>\n",
       "      <td>NaN</td>\n",
       "      <td>Cheese Burger Combo</td>\n",
       "      <td>6</td>\n",
       "      <td>2.7</td>\n",
       "    </tr>\n",
       "  </tbody>\n",
       "</table>\n",
       "</div>"
      ],
      "text/plain": [
       "       Date   Day  Weekday  Hour  Minute                           Meal  \\\n",
       "0 2007-11-26    2   Monday    11      50                   Super Burger   \n",
       "1 2007-11-13    3  Tuesday    12       4                   Super Burger   \n",
       "2 2007-11-20    3  Tuesday    19      18                   Super Burger   \n",
       "3 2007-11-27    3  Tuesday    15      26  Super Stacker Coronary Burger   \n",
       "4 2007-11-13    3  Tuesday    17      24  Super Stacker Coronary Burger   \n",
       "\n",
       "   Total Sale  Cost  Profit  Unnamed: 9                 Item Price  \\\n",
       "0           4   1.6     2.4         NaN  Carbonated Beverage     1   \n",
       "1           4   1.6     2.4         NaN                Shake     3   \n",
       "2           4   1.6     2.4         NaN         Plain Burger     2   \n",
       "3           7   9.8    -2.8         NaN         Super Burger     4   \n",
       "4           7   9.8    -2.8         NaN  Cheese Burger Combo     6   \n",
       "\n",
       "   Cost to make  \n",
       "0           0.1  \n",
       "1           0.6  \n",
       "2           0.8  \n",
       "3           1.6  \n",
       "4           2.7  "
      ]
     },
     "execution_count": 3,
     "metadata": {},
     "output_type": "execute_result"
    }
   ],
   "source": [
    "sales_data.head()"
   ]
  },
  {
   "cell_type": "markdown",
   "id": "0a711242",
   "metadata": {},
   "source": [
    "### Separating the two tables"
   ]
  },
  {
   "cell_type": "code",
   "execution_count": 4,
   "id": "f11603ed",
   "metadata": {},
   "outputs": [],
   "source": [
    "items_data=sales_data[['Item', 'Price', 'Cost to make']]"
   ]
  },
  {
   "cell_type": "code",
   "execution_count": 5,
   "id": "755db458",
   "metadata": {},
   "outputs": [
    {
     "data": {
      "text/html": [
       "<div>\n",
       "<style scoped>\n",
       "    .dataframe tbody tr th:only-of-type {\n",
       "        vertical-align: middle;\n",
       "    }\n",
       "\n",
       "    .dataframe tbody tr th {\n",
       "        vertical-align: top;\n",
       "    }\n",
       "\n",
       "    .dataframe thead th {\n",
       "        text-align: right;\n",
       "    }\n",
       "</style>\n",
       "<table border=\"1\" class=\"dataframe\">\n",
       "  <thead>\n",
       "    <tr style=\"text-align: right;\">\n",
       "      <th></th>\n",
       "      <th>Item</th>\n",
       "      <th>Price</th>\n",
       "      <th>Cost to make</th>\n",
       "    </tr>\n",
       "  </thead>\n",
       "  <tbody>\n",
       "    <tr>\n",
       "      <th>0</th>\n",
       "      <td>Carbonated Beverage</td>\n",
       "      <td>1</td>\n",
       "      <td>0.1</td>\n",
       "    </tr>\n",
       "    <tr>\n",
       "      <th>1</th>\n",
       "      <td>Shake</td>\n",
       "      <td>3</td>\n",
       "      <td>0.6</td>\n",
       "    </tr>\n",
       "    <tr>\n",
       "      <th>2</th>\n",
       "      <td>Plain Burger</td>\n",
       "      <td>2</td>\n",
       "      <td>0.8</td>\n",
       "    </tr>\n",
       "    <tr>\n",
       "      <th>3</th>\n",
       "      <td>Super Burger</td>\n",
       "      <td>4</td>\n",
       "      <td>1.6</td>\n",
       "    </tr>\n",
       "    <tr>\n",
       "      <th>4</th>\n",
       "      <td>Cheese Burger Combo</td>\n",
       "      <td>6</td>\n",
       "      <td>2.7</td>\n",
       "    </tr>\n",
       "  </tbody>\n",
       "</table>\n",
       "</div>"
      ],
      "text/plain": [
       "                  Item Price  Cost to make\n",
       "0  Carbonated Beverage     1           0.1\n",
       "1                Shake     3           0.6\n",
       "2         Plain Burger     2           0.8\n",
       "3         Super Burger     4           1.6\n",
       "4  Cheese Burger Combo     6           2.7"
      ]
     },
     "execution_count": 5,
     "metadata": {},
     "output_type": "execute_result"
    }
   ],
   "source": [
    "items_data.head()"
   ]
  },
  {
   "cell_type": "code",
   "execution_count": 6,
   "id": "f931df92",
   "metadata": {},
   "outputs": [],
   "source": [
    "sales_data.drop(columns=['Unnamed: 9', 'Item', 'Price', 'Cost to make'], inplace=True)"
   ]
  },
  {
   "cell_type": "code",
   "execution_count": 7,
   "id": "308e9ee0",
   "metadata": {},
   "outputs": [
    {
     "data": {
      "text/html": [
       "<div>\n",
       "<style scoped>\n",
       "    .dataframe tbody tr th:only-of-type {\n",
       "        vertical-align: middle;\n",
       "    }\n",
       "\n",
       "    .dataframe tbody tr th {\n",
       "        vertical-align: top;\n",
       "    }\n",
       "\n",
       "    .dataframe thead th {\n",
       "        text-align: right;\n",
       "    }\n",
       "</style>\n",
       "<table border=\"1\" class=\"dataframe\">\n",
       "  <thead>\n",
       "    <tr style=\"text-align: right;\">\n",
       "      <th></th>\n",
       "      <th>Date</th>\n",
       "      <th>Day</th>\n",
       "      <th>Weekday</th>\n",
       "      <th>Hour</th>\n",
       "      <th>Minute</th>\n",
       "      <th>Meal</th>\n",
       "      <th>Total Sale</th>\n",
       "      <th>Cost</th>\n",
       "      <th>Profit</th>\n",
       "    </tr>\n",
       "  </thead>\n",
       "  <tbody>\n",
       "    <tr>\n",
       "      <th>0</th>\n",
       "      <td>2007-11-26</td>\n",
       "      <td>2</td>\n",
       "      <td>Monday</td>\n",
       "      <td>11</td>\n",
       "      <td>50</td>\n",
       "      <td>Super Burger</td>\n",
       "      <td>4</td>\n",
       "      <td>1.6</td>\n",
       "      <td>2.4</td>\n",
       "    </tr>\n",
       "    <tr>\n",
       "      <th>1</th>\n",
       "      <td>2007-11-13</td>\n",
       "      <td>3</td>\n",
       "      <td>Tuesday</td>\n",
       "      <td>12</td>\n",
       "      <td>4</td>\n",
       "      <td>Super Burger</td>\n",
       "      <td>4</td>\n",
       "      <td>1.6</td>\n",
       "      <td>2.4</td>\n",
       "    </tr>\n",
       "    <tr>\n",
       "      <th>2</th>\n",
       "      <td>2007-11-20</td>\n",
       "      <td>3</td>\n",
       "      <td>Tuesday</td>\n",
       "      <td>19</td>\n",
       "      <td>18</td>\n",
       "      <td>Super Burger</td>\n",
       "      <td>4</td>\n",
       "      <td>1.6</td>\n",
       "      <td>2.4</td>\n",
       "    </tr>\n",
       "    <tr>\n",
       "      <th>3</th>\n",
       "      <td>2007-11-27</td>\n",
       "      <td>3</td>\n",
       "      <td>Tuesday</td>\n",
       "      <td>15</td>\n",
       "      <td>26</td>\n",
       "      <td>Super Stacker Coronary Burger</td>\n",
       "      <td>7</td>\n",
       "      <td>9.8</td>\n",
       "      <td>-2.8</td>\n",
       "    </tr>\n",
       "    <tr>\n",
       "      <th>4</th>\n",
       "      <td>2007-11-13</td>\n",
       "      <td>3</td>\n",
       "      <td>Tuesday</td>\n",
       "      <td>17</td>\n",
       "      <td>24</td>\n",
       "      <td>Super Stacker Coronary Burger</td>\n",
       "      <td>7</td>\n",
       "      <td>9.8</td>\n",
       "      <td>-2.8</td>\n",
       "    </tr>\n",
       "  </tbody>\n",
       "</table>\n",
       "</div>"
      ],
      "text/plain": [
       "       Date   Day  Weekday  Hour  Minute                           Meal  \\\n",
       "0 2007-11-26    2   Monday    11      50                   Super Burger   \n",
       "1 2007-11-13    3  Tuesday    12       4                   Super Burger   \n",
       "2 2007-11-20    3  Tuesday    19      18                   Super Burger   \n",
       "3 2007-11-27    3  Tuesday    15      26  Super Stacker Coronary Burger   \n",
       "4 2007-11-13    3  Tuesday    17      24  Super Stacker Coronary Burger   \n",
       "\n",
       "   Total Sale  Cost  Profit  \n",
       "0           4   1.6     2.4  \n",
       "1           4   1.6     2.4  \n",
       "2           4   1.6     2.4  \n",
       "3           7   9.8    -2.8  \n",
       "4           7   9.8    -2.8  "
      ]
     },
     "execution_count": 7,
     "metadata": {},
     "output_type": "execute_result"
    }
   ],
   "source": [
    "sales_data.head()"
   ]
  },
  {
   "cell_type": "code",
   "execution_count": 8,
   "id": "098b86f4",
   "metadata": {},
   "outputs": [
    {
     "data": {
      "text/plain": [
       "(1994, 9)"
      ]
     },
     "execution_count": 8,
     "metadata": {},
     "output_type": "execute_result"
    }
   ],
   "source": [
    "sales_data.shape"
   ]
  },
  {
   "cell_type": "markdown",
   "id": "9b961329",
   "metadata": {},
   "source": [
    "### Removing all the null values from items data"
   ]
  },
  {
   "cell_type": "code",
   "execution_count": 9,
   "id": "0b64c5b2",
   "metadata": {},
   "outputs": [],
   "source": [
    "items_data.dropna(inplace=True)"
   ]
  },
  {
   "cell_type": "code",
   "execution_count": 10,
   "id": "6820052b",
   "metadata": {},
   "outputs": [
    {
     "data": {
      "text/plain": [
       "(7, 3)"
      ]
     },
     "execution_count": 10,
     "metadata": {},
     "output_type": "execute_result"
    }
   ],
   "source": [
    "items_data.shape"
   ]
  },
  {
   "cell_type": "code",
   "execution_count": 11,
   "id": "3503e365",
   "metadata": {},
   "outputs": [
    {
     "data": {
      "text/html": [
       "<div>\n",
       "<style scoped>\n",
       "    .dataframe tbody tr th:only-of-type {\n",
       "        vertical-align: middle;\n",
       "    }\n",
       "\n",
       "    .dataframe tbody tr th {\n",
       "        vertical-align: top;\n",
       "    }\n",
       "\n",
       "    .dataframe thead th {\n",
       "        text-align: right;\n",
       "    }\n",
       "</style>\n",
       "<table border=\"1\" class=\"dataframe\">\n",
       "  <thead>\n",
       "    <tr style=\"text-align: right;\">\n",
       "      <th></th>\n",
       "      <th>Item</th>\n",
       "      <th>Price</th>\n",
       "      <th>Cost to make</th>\n",
       "    </tr>\n",
       "  </thead>\n",
       "  <tbody>\n",
       "    <tr>\n",
       "      <th>0</th>\n",
       "      <td>Carbonated Beverage</td>\n",
       "      <td>1</td>\n",
       "      <td>0.1</td>\n",
       "    </tr>\n",
       "    <tr>\n",
       "      <th>1</th>\n",
       "      <td>Shake</td>\n",
       "      <td>3</td>\n",
       "      <td>0.6</td>\n",
       "    </tr>\n",
       "    <tr>\n",
       "      <th>2</th>\n",
       "      <td>Plain Burger</td>\n",
       "      <td>2</td>\n",
       "      <td>0.8</td>\n",
       "    </tr>\n",
       "    <tr>\n",
       "      <th>3</th>\n",
       "      <td>Super Burger</td>\n",
       "      <td>4</td>\n",
       "      <td>1.6</td>\n",
       "    </tr>\n",
       "    <tr>\n",
       "      <th>4</th>\n",
       "      <td>Cheese Burger Combo</td>\n",
       "      <td>6</td>\n",
       "      <td>2.7</td>\n",
       "    </tr>\n",
       "    <tr>\n",
       "      <th>5</th>\n",
       "      <td>Super Stacker Coronary Burger</td>\n",
       "      <td>7</td>\n",
       "      <td>9.8</td>\n",
       "    </tr>\n",
       "    <tr>\n",
       "      <th>6</th>\n",
       "      <td>Bacon Burger</td>\n",
       "      <td>5</td>\n",
       "      <td>6.5</td>\n",
       "    </tr>\n",
       "  </tbody>\n",
       "</table>\n",
       "</div>"
      ],
      "text/plain": [
       "                            Item Price  Cost to make\n",
       "0            Carbonated Beverage     1           0.1\n",
       "1                          Shake     3           0.6\n",
       "2                   Plain Burger     2           0.8\n",
       "3                   Super Burger     4           1.6\n",
       "4            Cheese Burger Combo     6           2.7\n",
       "5  Super Stacker Coronary Burger     7           9.8\n",
       "6                   Bacon Burger     5           6.5"
      ]
     },
     "execution_count": 11,
     "metadata": {},
     "output_type": "execute_result"
    }
   ],
   "source": [
    "items_data"
   ]
  },
  {
   "cell_type": "markdown",
   "id": "04d96b71",
   "metadata": {},
   "source": [
    "### Checking missing values in sales data"
   ]
  },
  {
   "cell_type": "code",
   "execution_count": 12,
   "id": "9f245cc0",
   "metadata": {},
   "outputs": [
    {
     "data": {
      "text/plain": [
       "Date          0\n",
       "Day           0\n",
       "Weekday       0\n",
       "Hour          0\n",
       "Minute        0\n",
       "Meal          0\n",
       "Total Sale    0\n",
       "Cost          0\n",
       "Profit        0\n",
       "dtype: int64"
      ]
     },
     "execution_count": 12,
     "metadata": {},
     "output_type": "execute_result"
    }
   ],
   "source": [
    "sales_data.isna().sum()"
   ]
  },
  {
   "cell_type": "code",
   "execution_count": 13,
   "id": "e82d61d8",
   "metadata": {},
   "outputs": [
    {
     "data": {
      "text/html": [
       "<div>\n",
       "<style scoped>\n",
       "    .dataframe tbody tr th:only-of-type {\n",
       "        vertical-align: middle;\n",
       "    }\n",
       "\n",
       "    .dataframe tbody tr th {\n",
       "        vertical-align: top;\n",
       "    }\n",
       "\n",
       "    .dataframe thead th {\n",
       "        text-align: right;\n",
       "    }\n",
       "</style>\n",
       "<table border=\"1\" class=\"dataframe\">\n",
       "  <thead>\n",
       "    <tr style=\"text-align: right;\">\n",
       "      <th></th>\n",
       "      <th>Day</th>\n",
       "      <th>Hour</th>\n",
       "      <th>Minute</th>\n",
       "      <th>Total Sale</th>\n",
       "      <th>Cost</th>\n",
       "      <th>Profit</th>\n",
       "    </tr>\n",
       "  </thead>\n",
       "  <tbody>\n",
       "    <tr>\n",
       "      <th>count</th>\n",
       "      <td>1994.000000</td>\n",
       "      <td>1994.000000</td>\n",
       "      <td>1994.000000</td>\n",
       "      <td>1994.000000</td>\n",
       "      <td>1994.000000</td>\n",
       "      <td>1994.000000</td>\n",
       "    </tr>\n",
       "    <tr>\n",
       "      <th>mean</th>\n",
       "      <td>3.752257</td>\n",
       "      <td>14.560682</td>\n",
       "      <td>30.158475</td>\n",
       "      <td>3.964895</td>\n",
       "      <td>3.155968</td>\n",
       "      <td>0.808927</td>\n",
       "    </tr>\n",
       "    <tr>\n",
       "      <th>std</th>\n",
       "      <td>1.845461</td>\n",
       "      <td>3.128552</td>\n",
       "      <td>17.494977</td>\n",
       "      <td>2.027352</td>\n",
       "      <td>3.408280</td>\n",
       "      <td>2.057666</td>\n",
       "    </tr>\n",
       "    <tr>\n",
       "      <th>min</th>\n",
       "      <td>1.000000</td>\n",
       "      <td>7.000000</td>\n",
       "      <td>1.000000</td>\n",
       "      <td>1.000000</td>\n",
       "      <td>0.100000</td>\n",
       "      <td>-2.800000</td>\n",
       "    </tr>\n",
       "    <tr>\n",
       "      <th>25%</th>\n",
       "      <td>2.000000</td>\n",
       "      <td>12.000000</td>\n",
       "      <td>15.000000</td>\n",
       "      <td>2.000000</td>\n",
       "      <td>0.600000</td>\n",
       "      <td>-1.500000</td>\n",
       "    </tr>\n",
       "    <tr>\n",
       "      <th>50%</th>\n",
       "      <td>3.000000</td>\n",
       "      <td>14.000000</td>\n",
       "      <td>30.000000</td>\n",
       "      <td>4.000000</td>\n",
       "      <td>1.600000</td>\n",
       "      <td>1.200000</td>\n",
       "    </tr>\n",
       "    <tr>\n",
       "      <th>75%</th>\n",
       "      <td>5.000000</td>\n",
       "      <td>17.000000</td>\n",
       "      <td>45.000000</td>\n",
       "      <td>6.000000</td>\n",
       "      <td>6.500000</td>\n",
       "      <td>2.400000</td>\n",
       "    </tr>\n",
       "    <tr>\n",
       "      <th>max</th>\n",
       "      <td>7.000000</td>\n",
       "      <td>22.000000</td>\n",
       "      <td>60.000000</td>\n",
       "      <td>7.000000</td>\n",
       "      <td>9.800000</td>\n",
       "      <td>3.300000</td>\n",
       "    </tr>\n",
       "  </tbody>\n",
       "</table>\n",
       "</div>"
      ],
      "text/plain": [
       "               Day         Hour       Minute   Total Sale         Cost  \\\n",
       "count  1994.000000  1994.000000  1994.000000  1994.000000  1994.000000   \n",
       "mean      3.752257    14.560682    30.158475     3.964895     3.155968   \n",
       "std       1.845461     3.128552    17.494977     2.027352     3.408280   \n",
       "min       1.000000     7.000000     1.000000     1.000000     0.100000   \n",
       "25%       2.000000    12.000000    15.000000     2.000000     0.600000   \n",
       "50%       3.000000    14.000000    30.000000     4.000000     1.600000   \n",
       "75%       5.000000    17.000000    45.000000     6.000000     6.500000   \n",
       "max       7.000000    22.000000    60.000000     7.000000     9.800000   \n",
       "\n",
       "            Profit  \n",
       "count  1994.000000  \n",
       "mean      0.808927  \n",
       "std       2.057666  \n",
       "min      -2.800000  \n",
       "25%      -1.500000  \n",
       "50%       1.200000  \n",
       "75%       2.400000  \n",
       "max       3.300000  "
      ]
     },
     "execution_count": 13,
     "metadata": {},
     "output_type": "execute_result"
    }
   ],
   "source": [
    "sales_data.describe()"
   ]
  },
  {
   "cell_type": "code",
   "execution_count": 14,
   "id": "7eccee39",
   "metadata": {},
   "outputs": [
    {
     "name": "stdout",
     "output_type": "stream",
     "text": [
      "<class 'pandas.core.frame.DataFrame'>\n",
      "RangeIndex: 1994 entries, 0 to 1993\n",
      "Data columns (total 9 columns):\n",
      " #   Column      Non-Null Count  Dtype         \n",
      "---  ------      --------------  -----         \n",
      " 0   Date        1994 non-null   datetime64[ns]\n",
      " 1   Day         1994 non-null   int64         \n",
      " 2   Weekday     1994 non-null   object        \n",
      " 3   Hour        1994 non-null   int64         \n",
      " 4   Minute      1994 non-null   int64         \n",
      " 5   Meal        1994 non-null   object        \n",
      " 6   Total Sale  1994 non-null   int64         \n",
      " 7   Cost        1994 non-null   float64       \n",
      " 8   Profit      1994 non-null   float64       \n",
      "dtypes: datetime64[ns](1), float64(2), int64(4), object(2)\n",
      "memory usage: 140.3+ KB\n"
     ]
    }
   ],
   "source": [
    "sales_data.info()"
   ]
  },
  {
   "cell_type": "code",
   "execution_count": 15,
   "id": "ff492a43",
   "metadata": {},
   "outputs": [
    {
     "data": {
      "text/html": [
       "<div>\n",
       "<style scoped>\n",
       "    .dataframe tbody tr th:only-of-type {\n",
       "        vertical-align: middle;\n",
       "    }\n",
       "\n",
       "    .dataframe tbody tr th {\n",
       "        vertical-align: top;\n",
       "    }\n",
       "\n",
       "    .dataframe thead th {\n",
       "        text-align: right;\n",
       "    }\n",
       "</style>\n",
       "<table border=\"1\" class=\"dataframe\">\n",
       "  <thead>\n",
       "    <tr style=\"text-align: right;\">\n",
       "      <th></th>\n",
       "      <th>Date</th>\n",
       "      <th>Day</th>\n",
       "      <th>Weekday</th>\n",
       "      <th>Hour</th>\n",
       "      <th>Minute</th>\n",
       "      <th>Meal</th>\n",
       "      <th>Total Sale</th>\n",
       "      <th>Cost</th>\n",
       "      <th>Profit</th>\n",
       "    </tr>\n",
       "  </thead>\n",
       "  <tbody>\n",
       "    <tr>\n",
       "      <th>0</th>\n",
       "      <td>2007-11-26</td>\n",
       "      <td>2</td>\n",
       "      <td>Monday</td>\n",
       "      <td>11</td>\n",
       "      <td>50</td>\n",
       "      <td>Super Burger</td>\n",
       "      <td>4</td>\n",
       "      <td>1.6</td>\n",
       "      <td>2.4</td>\n",
       "    </tr>\n",
       "    <tr>\n",
       "      <th>1</th>\n",
       "      <td>2007-11-13</td>\n",
       "      <td>3</td>\n",
       "      <td>Tuesday</td>\n",
       "      <td>12</td>\n",
       "      <td>4</td>\n",
       "      <td>Super Burger</td>\n",
       "      <td>4</td>\n",
       "      <td>1.6</td>\n",
       "      <td>2.4</td>\n",
       "    </tr>\n",
       "    <tr>\n",
       "      <th>2</th>\n",
       "      <td>2007-11-20</td>\n",
       "      <td>3</td>\n",
       "      <td>Tuesday</td>\n",
       "      <td>19</td>\n",
       "      <td>18</td>\n",
       "      <td>Super Burger</td>\n",
       "      <td>4</td>\n",
       "      <td>1.6</td>\n",
       "      <td>2.4</td>\n",
       "    </tr>\n",
       "    <tr>\n",
       "      <th>3</th>\n",
       "      <td>2007-11-27</td>\n",
       "      <td>3</td>\n",
       "      <td>Tuesday</td>\n",
       "      <td>15</td>\n",
       "      <td>26</td>\n",
       "      <td>Super Stacker Coronary Burger</td>\n",
       "      <td>7</td>\n",
       "      <td>9.8</td>\n",
       "      <td>-2.8</td>\n",
       "    </tr>\n",
       "    <tr>\n",
       "      <th>4</th>\n",
       "      <td>2007-11-13</td>\n",
       "      <td>3</td>\n",
       "      <td>Tuesday</td>\n",
       "      <td>17</td>\n",
       "      <td>24</td>\n",
       "      <td>Super Stacker Coronary Burger</td>\n",
       "      <td>7</td>\n",
       "      <td>9.8</td>\n",
       "      <td>-2.8</td>\n",
       "    </tr>\n",
       "  </tbody>\n",
       "</table>\n",
       "</div>"
      ],
      "text/plain": [
       "       Date   Day  Weekday  Hour  Minute                           Meal  \\\n",
       "0 2007-11-26    2   Monday    11      50                   Super Burger   \n",
       "1 2007-11-13    3  Tuesday    12       4                   Super Burger   \n",
       "2 2007-11-20    3  Tuesday    19      18                   Super Burger   \n",
       "3 2007-11-27    3  Tuesday    15      26  Super Stacker Coronary Burger   \n",
       "4 2007-11-13    3  Tuesday    17      24  Super Stacker Coronary Burger   \n",
       "\n",
       "   Total Sale  Cost  Profit  \n",
       "0           4   1.6     2.4  \n",
       "1           4   1.6     2.4  \n",
       "2           4   1.6     2.4  \n",
       "3           7   9.8    -2.8  \n",
       "4           7   9.8    -2.8  "
      ]
     },
     "execution_count": 15,
     "metadata": {},
     "output_type": "execute_result"
    }
   ],
   "source": [
    "sales_data.head()"
   ]
  },
  {
   "cell_type": "code",
   "execution_count": 16,
   "id": "53d8f2b8",
   "metadata": {},
   "outputs": [
    {
     "data": {
      "text/plain": [
       "Index(['Date ', 'Day', 'Weekday', 'Hour', 'Minute', 'Meal', 'Total Sale',\n",
       "       'Cost', 'Profit'],\n",
       "      dtype='object')"
      ]
     },
     "execution_count": 16,
     "metadata": {},
     "output_type": "execute_result"
    }
   ],
   "source": [
    "sales_data.columns"
   ]
  },
  {
   "cell_type": "markdown",
   "id": "5cb2b29d",
   "metadata": {},
   "source": [
    "### The column Date has an extra whitespace at the end which I can remove using the strip function"
   ]
  },
  {
   "cell_type": "code",
   "execution_count": 17,
   "id": "f3dd8303",
   "metadata": {},
   "outputs": [],
   "source": [
    "sales_data.rename(columns=lambda x: x.strip(), inplace=True)"
   ]
  },
  {
   "cell_type": "code",
   "execution_count": 18,
   "id": "469588f9",
   "metadata": {},
   "outputs": [
    {
     "data": {
      "text/plain": [
       "Index(['Date', 'Day', 'Weekday', 'Hour', 'Minute', 'Meal', 'Total Sale',\n",
       "       'Cost', 'Profit'],\n",
       "      dtype='object')"
      ]
     },
     "execution_count": 18,
     "metadata": {},
     "output_type": "execute_result"
    }
   ],
   "source": [
    "sales_data.columns"
   ]
  },
  {
   "cell_type": "code",
   "execution_count": 19,
   "id": "26cba4a1",
   "metadata": {},
   "outputs": [
    {
     "name": "stdout",
     "output_type": "stream",
     "text": [
      "Max date: 2007-11-30 00:00:00\n",
      "Min date: 2007-11-01 00:00:00\n"
     ]
    }
   ],
   "source": [
    "print(\"Max date:\", sales_data.Date.max())\n",
    "print(\"Min date:\", sales_data.Date.min())"
   ]
  },
  {
   "cell_type": "code",
   "execution_count": 20,
   "id": "3d77d3e6",
   "metadata": {},
   "outputs": [],
   "source": [
    "merged_data=sales_data.merge(items_data, left_on='Meal', right_on='Item', how='left')"
   ]
  },
  {
   "cell_type": "code",
   "execution_count": 21,
   "id": "51195cec",
   "metadata": {},
   "outputs": [
    {
     "data": {
      "text/html": [
       "<div>\n",
       "<style scoped>\n",
       "    .dataframe tbody tr th:only-of-type {\n",
       "        vertical-align: middle;\n",
       "    }\n",
       "\n",
       "    .dataframe tbody tr th {\n",
       "        vertical-align: top;\n",
       "    }\n",
       "\n",
       "    .dataframe thead th {\n",
       "        text-align: right;\n",
       "    }\n",
       "</style>\n",
       "<table border=\"1\" class=\"dataframe\">\n",
       "  <thead>\n",
       "    <tr style=\"text-align: right;\">\n",
       "      <th></th>\n",
       "      <th>Date</th>\n",
       "      <th>Day</th>\n",
       "      <th>Weekday</th>\n",
       "      <th>Hour</th>\n",
       "      <th>Minute</th>\n",
       "      <th>Meal</th>\n",
       "      <th>Total Sale</th>\n",
       "      <th>Cost</th>\n",
       "      <th>Profit</th>\n",
       "      <th>Item</th>\n",
       "      <th>Price</th>\n",
       "      <th>Cost to make</th>\n",
       "    </tr>\n",
       "  </thead>\n",
       "  <tbody>\n",
       "    <tr>\n",
       "      <th>0</th>\n",
       "      <td>2007-11-26</td>\n",
       "      <td>2</td>\n",
       "      <td>Monday</td>\n",
       "      <td>11</td>\n",
       "      <td>50</td>\n",
       "      <td>Super Burger</td>\n",
       "      <td>4</td>\n",
       "      <td>1.6</td>\n",
       "      <td>2.4</td>\n",
       "      <td>Super Burger</td>\n",
       "      <td>4</td>\n",
       "      <td>1.6</td>\n",
       "    </tr>\n",
       "    <tr>\n",
       "      <th>1</th>\n",
       "      <td>2007-11-13</td>\n",
       "      <td>3</td>\n",
       "      <td>Tuesday</td>\n",
       "      <td>12</td>\n",
       "      <td>4</td>\n",
       "      <td>Super Burger</td>\n",
       "      <td>4</td>\n",
       "      <td>1.6</td>\n",
       "      <td>2.4</td>\n",
       "      <td>Super Burger</td>\n",
       "      <td>4</td>\n",
       "      <td>1.6</td>\n",
       "    </tr>\n",
       "    <tr>\n",
       "      <th>2</th>\n",
       "      <td>2007-11-20</td>\n",
       "      <td>3</td>\n",
       "      <td>Tuesday</td>\n",
       "      <td>19</td>\n",
       "      <td>18</td>\n",
       "      <td>Super Burger</td>\n",
       "      <td>4</td>\n",
       "      <td>1.6</td>\n",
       "      <td>2.4</td>\n",
       "      <td>Super Burger</td>\n",
       "      <td>4</td>\n",
       "      <td>1.6</td>\n",
       "    </tr>\n",
       "    <tr>\n",
       "      <th>3</th>\n",
       "      <td>2007-11-27</td>\n",
       "      <td>3</td>\n",
       "      <td>Tuesday</td>\n",
       "      <td>15</td>\n",
       "      <td>26</td>\n",
       "      <td>Super Stacker Coronary Burger</td>\n",
       "      <td>7</td>\n",
       "      <td>9.8</td>\n",
       "      <td>-2.8</td>\n",
       "      <td>Super Stacker Coronary Burger</td>\n",
       "      <td>7</td>\n",
       "      <td>9.8</td>\n",
       "    </tr>\n",
       "    <tr>\n",
       "      <th>4</th>\n",
       "      <td>2007-11-13</td>\n",
       "      <td>3</td>\n",
       "      <td>Tuesday</td>\n",
       "      <td>17</td>\n",
       "      <td>24</td>\n",
       "      <td>Super Stacker Coronary Burger</td>\n",
       "      <td>7</td>\n",
       "      <td>9.8</td>\n",
       "      <td>-2.8</td>\n",
       "      <td>Super Stacker Coronary Burger</td>\n",
       "      <td>7</td>\n",
       "      <td>9.8</td>\n",
       "    </tr>\n",
       "  </tbody>\n",
       "</table>\n",
       "</div>"
      ],
      "text/plain": [
       "        Date  Day  Weekday  Hour  Minute                           Meal  \\\n",
       "0 2007-11-26    2   Monday    11      50                   Super Burger   \n",
       "1 2007-11-13    3  Tuesday    12       4                   Super Burger   \n",
       "2 2007-11-20    3  Tuesday    19      18                   Super Burger   \n",
       "3 2007-11-27    3  Tuesday    15      26  Super Stacker Coronary Burger   \n",
       "4 2007-11-13    3  Tuesday    17      24  Super Stacker Coronary Burger   \n",
       "\n",
       "   Total Sale  Cost  Profit                           Item Price  Cost to make  \n",
       "0           4   1.6     2.4                   Super Burger     4           1.6  \n",
       "1           4   1.6     2.4                   Super Burger     4           1.6  \n",
       "2           4   1.6     2.4                   Super Burger     4           1.6  \n",
       "3           7   9.8    -2.8  Super Stacker Coronary Burger     7           9.8  \n",
       "4           7   9.8    -2.8  Super Stacker Coronary Burger     7           9.8  "
      ]
     },
     "execution_count": 21,
     "metadata": {},
     "output_type": "execute_result"
    }
   ],
   "source": [
    "merged_data.head()"
   ]
  },
  {
   "cell_type": "code",
   "execution_count": 22,
   "id": "ec95fe28",
   "metadata": {},
   "outputs": [
    {
     "data": {
      "text/plain": [
       "(1994, 12)"
      ]
     },
     "execution_count": 22,
     "metadata": {},
     "output_type": "execute_result"
    }
   ],
   "source": [
    "merged_data.shape"
   ]
  },
  {
   "cell_type": "code",
   "execution_count": 23,
   "id": "47a90e13",
   "metadata": {},
   "outputs": [],
   "source": [
    "merged_data.drop(columns=['Meal', 'Cost to make'], axis=0, inplace=True)"
   ]
  },
  {
   "cell_type": "code",
   "execution_count": 24,
   "id": "6219437f",
   "metadata": {},
   "outputs": [
    {
     "data": {
      "text/plain": [
       "(1994, 10)"
      ]
     },
     "execution_count": 24,
     "metadata": {},
     "output_type": "execute_result"
    }
   ],
   "source": [
    "merged_data.shape"
   ]
  },
  {
   "cell_type": "code",
   "execution_count": 25,
   "id": "e58718c4",
   "metadata": {},
   "outputs": [
    {
     "data": {
      "text/html": [
       "<div>\n",
       "<style scoped>\n",
       "    .dataframe tbody tr th:only-of-type {\n",
       "        vertical-align: middle;\n",
       "    }\n",
       "\n",
       "    .dataframe tbody tr th {\n",
       "        vertical-align: top;\n",
       "    }\n",
       "\n",
       "    .dataframe thead th {\n",
       "        text-align: right;\n",
       "    }\n",
       "</style>\n",
       "<table border=\"1\" class=\"dataframe\">\n",
       "  <thead>\n",
       "    <tr style=\"text-align: right;\">\n",
       "      <th></th>\n",
       "      <th>Date</th>\n",
       "      <th>Day</th>\n",
       "      <th>Weekday</th>\n",
       "      <th>Hour</th>\n",
       "      <th>Minute</th>\n",
       "      <th>Total Sale</th>\n",
       "      <th>Cost</th>\n",
       "      <th>Profit</th>\n",
       "      <th>Item</th>\n",
       "      <th>Price</th>\n",
       "    </tr>\n",
       "  </thead>\n",
       "  <tbody>\n",
       "    <tr>\n",
       "      <th>0</th>\n",
       "      <td>2007-11-26</td>\n",
       "      <td>2</td>\n",
       "      <td>Monday</td>\n",
       "      <td>11</td>\n",
       "      <td>50</td>\n",
       "      <td>4</td>\n",
       "      <td>1.6</td>\n",
       "      <td>2.4</td>\n",
       "      <td>Super Burger</td>\n",
       "      <td>4</td>\n",
       "    </tr>\n",
       "    <tr>\n",
       "      <th>1</th>\n",
       "      <td>2007-11-13</td>\n",
       "      <td>3</td>\n",
       "      <td>Tuesday</td>\n",
       "      <td>12</td>\n",
       "      <td>4</td>\n",
       "      <td>4</td>\n",
       "      <td>1.6</td>\n",
       "      <td>2.4</td>\n",
       "      <td>Super Burger</td>\n",
       "      <td>4</td>\n",
       "    </tr>\n",
       "    <tr>\n",
       "      <th>2</th>\n",
       "      <td>2007-11-20</td>\n",
       "      <td>3</td>\n",
       "      <td>Tuesday</td>\n",
       "      <td>19</td>\n",
       "      <td>18</td>\n",
       "      <td>4</td>\n",
       "      <td>1.6</td>\n",
       "      <td>2.4</td>\n",
       "      <td>Super Burger</td>\n",
       "      <td>4</td>\n",
       "    </tr>\n",
       "    <tr>\n",
       "      <th>3</th>\n",
       "      <td>2007-11-27</td>\n",
       "      <td>3</td>\n",
       "      <td>Tuesday</td>\n",
       "      <td>15</td>\n",
       "      <td>26</td>\n",
       "      <td>7</td>\n",
       "      <td>9.8</td>\n",
       "      <td>-2.8</td>\n",
       "      <td>Super Stacker Coronary Burger</td>\n",
       "      <td>7</td>\n",
       "    </tr>\n",
       "    <tr>\n",
       "      <th>4</th>\n",
       "      <td>2007-11-13</td>\n",
       "      <td>3</td>\n",
       "      <td>Tuesday</td>\n",
       "      <td>17</td>\n",
       "      <td>24</td>\n",
       "      <td>7</td>\n",
       "      <td>9.8</td>\n",
       "      <td>-2.8</td>\n",
       "      <td>Super Stacker Coronary Burger</td>\n",
       "      <td>7</td>\n",
       "    </tr>\n",
       "  </tbody>\n",
       "</table>\n",
       "</div>"
      ],
      "text/plain": [
       "        Date  Day  Weekday  Hour  Minute  Total Sale  Cost  Profit  \\\n",
       "0 2007-11-26    2   Monday    11      50           4   1.6     2.4   \n",
       "1 2007-11-13    3  Tuesday    12       4           4   1.6     2.4   \n",
       "2 2007-11-20    3  Tuesday    19      18           4   1.6     2.4   \n",
       "3 2007-11-27    3  Tuesday    15      26           7   9.8    -2.8   \n",
       "4 2007-11-13    3  Tuesday    17      24           7   9.8    -2.8   \n",
       "\n",
       "                            Item Price  \n",
       "0                   Super Burger     4  \n",
       "1                   Super Burger     4  \n",
       "2                   Super Burger     4  \n",
       "3  Super Stacker Coronary Burger     7  \n",
       "4  Super Stacker Coronary Burger     7  "
      ]
     },
     "execution_count": 25,
     "metadata": {},
     "output_type": "execute_result"
    }
   ],
   "source": [
    "merged_data.head()"
   ]
  },
  {
   "cell_type": "markdown",
   "id": "55feaeba",
   "metadata": {},
   "source": [
    "### EDA"
   ]
  },
  {
   "cell_type": "code",
   "execution_count": 26,
   "id": "ed009469",
   "metadata": {},
   "outputs": [],
   "source": [
    "data_by_hourly_sales=merged_data.groupby(['Hour'], as_index=False).agg({'Total Sale': 'sum'})"
   ]
  },
  {
   "cell_type": "code",
   "execution_count": 27,
   "id": "62189b5c",
   "metadata": {},
   "outputs": [
    {
     "data": {
      "image/png": "[encoded data removed]",
      "text/plain": [
       "<Figure size 640x480 with 1 Axes>"
      ]
     },
     "metadata": {},
     "output_type": "display_data"
    }
   ],
   "source": [
    "ax=sns.barplot(x='Hour', y='Total Sale', data=data_by_hourly_sales)\n",
    "for bars in ax.containers:\n",
    "    ax.bar_label(bars)\n",
    "plt.title(\"Total sale on hourly basis\")\n",
    "plt.ylabel(\"Sales ($)\")\n",
    "plt.xlabel(\"Hour\")\n",
    "plt.show()"
   ]
  },
  {
   "cell_type": "markdown",
   "id": "34789f84",
   "metadata": {},
   "source": [
    "### I want to check the sales of items in hours: 7-9 and 21-22"
   ]
  },
  {
   "cell_type": "code",
   "execution_count": 185,
   "id": "abb03401",
   "metadata": {},
   "outputs": [
    {
     "data": {
      "text/plain": [
       "(38, 10)"
      ]
     },
     "execution_count": 185,
     "metadata": {},
     "output_type": "execute_result"
    }
   ],
   "source": [
    "specific_hours=merged_data[(merged_data['Hour']>=7) & (merged_data['Hour']<=9)]\n",
    "specific_hours.shape"
   ]
  },
  {
   "cell_type": "code",
   "execution_count": 186,
   "id": "75449f08",
   "metadata": {},
   "outputs": [
    {
     "data": {
      "text/html": [
       "<div>\n",
       "<style scoped>\n",
       "    .dataframe tbody tr th:only-of-type {\n",
       "        vertical-align: middle;\n",
       "    }\n",
       "\n",
       "    .dataframe tbody tr th {\n",
       "        vertical-align: top;\n",
       "    }\n",
       "\n",
       "    .dataframe thead th {\n",
       "        text-align: right;\n",
       "    }\n",
       "</style>\n",
       "<table border=\"1\" class=\"dataframe\">\n",
       "  <thead>\n",
       "    <tr style=\"text-align: right;\">\n",
       "      <th></th>\n",
       "      <th>Date</th>\n",
       "      <th>Day</th>\n",
       "      <th>Weekday</th>\n",
       "      <th>Hour</th>\n",
       "      <th>Minute</th>\n",
       "      <th>Total Sale</th>\n",
       "      <th>Cost</th>\n",
       "      <th>Profit</th>\n",
       "      <th>Item</th>\n",
       "      <th>Price</th>\n",
       "    </tr>\n",
       "  </thead>\n",
       "  <tbody>\n",
       "    <tr>\n",
       "      <th>19</th>\n",
       "      <td>2007-11-27</td>\n",
       "      <td>3</td>\n",
       "      <td>Tuesday</td>\n",
       "      <td>7</td>\n",
       "      <td>34</td>\n",
       "      <td>7</td>\n",
       "      <td>9.8</td>\n",
       "      <td>-2.8</td>\n",
       "      <td>Super Stacker Coronary Burger</td>\n",
       "      <td>7</td>\n",
       "    </tr>\n",
       "    <tr>\n",
       "      <th>36</th>\n",
       "      <td>2007-11-05</td>\n",
       "      <td>2</td>\n",
       "      <td>Monday</td>\n",
       "      <td>9</td>\n",
       "      <td>8</td>\n",
       "      <td>5</td>\n",
       "      <td>6.5</td>\n",
       "      <td>-1.5</td>\n",
       "      <td>Bacon Burger</td>\n",
       "      <td>5</td>\n",
       "    </tr>\n",
       "    <tr>\n",
       "      <th>87</th>\n",
       "      <td>2007-11-06</td>\n",
       "      <td>3</td>\n",
       "      <td>Tuesday</td>\n",
       "      <td>9</td>\n",
       "      <td>21</td>\n",
       "      <td>7</td>\n",
       "      <td>9.8</td>\n",
       "      <td>-2.8</td>\n",
       "      <td>Super Stacker Coronary Burger</td>\n",
       "      <td>7</td>\n",
       "    </tr>\n",
       "    <tr>\n",
       "      <th>102</th>\n",
       "      <td>2007-11-02</td>\n",
       "      <td>6</td>\n",
       "      <td>Friday</td>\n",
       "      <td>9</td>\n",
       "      <td>48</td>\n",
       "      <td>5</td>\n",
       "      <td>6.5</td>\n",
       "      <td>-1.5</td>\n",
       "      <td>Bacon Burger</td>\n",
       "      <td>5</td>\n",
       "    </tr>\n",
       "    <tr>\n",
       "      <th>115</th>\n",
       "      <td>2007-11-02</td>\n",
       "      <td>6</td>\n",
       "      <td>Friday</td>\n",
       "      <td>9</td>\n",
       "      <td>48</td>\n",
       "      <td>5</td>\n",
       "      <td>6.5</td>\n",
       "      <td>-1.5</td>\n",
       "      <td>Bacon Burger</td>\n",
       "      <td>5</td>\n",
       "    </tr>\n",
       "  </tbody>\n",
       "</table>\n",
       "</div>"
      ],
      "text/plain": [
       "          Date  Day  Weekday  Hour  Minute  Total Sale  Cost  Profit  \\\n",
       "19  2007-11-27    3  Tuesday     7      34           7   9.8    -2.8   \n",
       "36  2007-11-05    2   Monday     9       8           5   6.5    -1.5   \n",
       "87  2007-11-06    3  Tuesday     9      21           7   9.8    -2.8   \n",
       "102 2007-11-02    6   Friday     9      48           5   6.5    -1.5   \n",
       "115 2007-11-02    6   Friday     9      48           5   6.5    -1.5   \n",
       "\n",
       "                              Item Price  \n",
       "19   Super Stacker Coronary Burger     7  \n",
       "36                    Bacon Burger     5  \n",
       "87   Super Stacker Coronary Burger     7  \n",
       "102                   Bacon Burger     5  \n",
       "115                   Bacon Burger     5  "
      ]
     },
     "execution_count": 186,
     "metadata": {},
     "output_type": "execute_result"
    }
   ],
   "source": [
    "specific_hours.head()"
   ]
  },
  {
   "cell_type": "code",
   "execution_count": 187,
   "id": "b9ff37f0",
   "metadata": {},
   "outputs": [
    {
     "data": {
      "text/plain": [
       "Cheese Burger Combo              8\n",
       "Super Burger                     8\n",
       "Super Stacker Coronary Burger    6\n",
       "Bacon Burger                     6\n",
       "Shake                            6\n",
       "Plain Burger                     4\n",
       "Name: Item, dtype: int64"
      ]
     },
     "execution_count": 187,
     "metadata": {},
     "output_type": "execute_result"
    }
   ],
   "source": [
    "specific_hours['Item'].value_counts()"
   ]
  },
  {
   "cell_type": "code",
   "execution_count": 228,
   "id": "506a5d26",
   "metadata": {},
   "outputs": [
    {
     "data": {
      "text/plain": [
       "Carbonated Beverage              308\n",
       "Super Burger                     304\n",
       "Super Stacker Coronary Burger    298\n",
       "Plain Burger                     288\n",
       "Bacon Burger                     270\n",
       "Cheese Burger Combo              264\n",
       "Shake                            262\n",
       "Name: Item, dtype: int64"
      ]
     },
     "execution_count": 228,
     "metadata": {},
     "output_type": "execute_result"
    }
   ],
   "source": [
    "merged_data['Item'].value_counts()"
   ]
  },
  {
   "cell_type": "code",
   "execution_count": 189,
   "id": "2aab8263",
   "metadata": {},
   "outputs": [
    {
     "data": {
      "text/plain": [
       "7906"
      ]
     },
     "execution_count": 189,
     "metadata": {},
     "output_type": "execute_result"
    }
   ],
   "source": [
    "merged_data['Total Sale'].sum()"
   ]
  },
  {
   "cell_type": "code",
   "execution_count": null,
   "id": "424255d0",
   "metadata": {},
   "outputs": [],
   "source": [
    "plt.figure(figsize=(8, 6))\n",
    "ax=sns.barplot(='Hour', y='Item', data=data_by_hourly_sku_count)\n",
    "for bars in ax.containers:\n",
    "    ax.bar_label(bars)\n",
    "plt.title(\"Orders on hourly basis\")\n",
    "plt.ylabel(\"Total orders\")\n",
    "plt.xlabel(\"Hour\")\n",
    "plt.show()"
   ]
  },
  {
   "cell_type": "code",
   "execution_count": null,
   "id": "75c779ea",
   "metadata": {},
   "outputs": [],
   "source": []
  },
  {
   "cell_type": "code",
   "execution_count": null,
   "id": "f9f7d326",
   "metadata": {},
   "outputs": [],
   "source": []
  },
  {
   "cell_type": "code",
   "execution_count": null,
   "id": "73616fb8",
   "metadata": {},
   "outputs": [],
   "source": []
  },
  {
   "cell_type": "code",
   "execution_count": 159,
   "id": "523d8640",
   "metadata": {},
   "outputs": [
    {
     "data": {
      "text/html": [
       "<div>\n",
       "<style scoped>\n",
       "    .dataframe tbody tr th:only-of-type {\n",
       "        vertical-align: middle;\n",
       "    }\n",
       "\n",
       "    .dataframe tbody tr th {\n",
       "        vertical-align: top;\n",
       "    }\n",
       "\n",
       "    .dataframe thead th {\n",
       "        text-align: right;\n",
       "    }\n",
       "</style>\n",
       "<table border=\"1\" class=\"dataframe\">\n",
       "  <thead>\n",
       "    <tr style=\"text-align: right;\">\n",
       "      <th></th>\n",
       "      <th>Hour</th>\n",
       "      <th>Item</th>\n",
       "    </tr>\n",
       "  </thead>\n",
       "  <tbody>\n",
       "    <tr>\n",
       "      <th>0</th>\n",
       "      <td>7</td>\n",
       "      <td>6</td>\n",
       "    </tr>\n",
       "    <tr>\n",
       "      <th>1</th>\n",
       "      <td>8</td>\n",
       "      <td>10</td>\n",
       "    </tr>\n",
       "    <tr>\n",
       "      <th>2</th>\n",
       "      <td>9</td>\n",
       "      <td>22</td>\n",
       "    </tr>\n",
       "    <tr>\n",
       "      <th>3</th>\n",
       "      <td>10</td>\n",
       "      <td>96</td>\n",
       "    </tr>\n",
       "    <tr>\n",
       "      <th>4</th>\n",
       "      <td>11</td>\n",
       "      <td>220</td>\n",
       "    </tr>\n",
       "    <tr>\n",
       "      <th>5</th>\n",
       "      <td>12</td>\n",
       "      <td>274</td>\n",
       "    </tr>\n",
       "    <tr>\n",
       "      <th>6</th>\n",
       "      <td>13</td>\n",
       "      <td>216</td>\n",
       "    </tr>\n",
       "    <tr>\n",
       "      <th>7</th>\n",
       "      <td>14</td>\n",
       "      <td>228</td>\n",
       "    </tr>\n",
       "    <tr>\n",
       "      <th>8</th>\n",
       "      <td>15</td>\n",
       "      <td>206</td>\n",
       "    </tr>\n",
       "    <tr>\n",
       "      <th>9</th>\n",
       "      <td>16</td>\n",
       "      <td>166</td>\n",
       "    </tr>\n",
       "    <tr>\n",
       "      <th>10</th>\n",
       "      <td>17</td>\n",
       "      <td>118</td>\n",
       "    </tr>\n",
       "    <tr>\n",
       "      <th>11</th>\n",
       "      <td>18</td>\n",
       "      <td>144</td>\n",
       "    </tr>\n",
       "    <tr>\n",
       "      <th>12</th>\n",
       "      <td>19</td>\n",
       "      <td>116</td>\n",
       "    </tr>\n",
       "    <tr>\n",
       "      <th>13</th>\n",
       "      <td>20</td>\n",
       "      <td>124</td>\n",
       "    </tr>\n",
       "    <tr>\n",
       "      <th>14</th>\n",
       "      <td>21</td>\n",
       "      <td>38</td>\n",
       "    </tr>\n",
       "    <tr>\n",
       "      <th>15</th>\n",
       "      <td>22</td>\n",
       "      <td>10</td>\n",
       "    </tr>\n",
       "  </tbody>\n",
       "</table>\n",
       "</div>"
      ],
      "text/plain": [
       "    Hour  Item\n",
       "0      7     6\n",
       "1      8    10\n",
       "2      9    22\n",
       "3     10    96\n",
       "4     11   220\n",
       "5     12   274\n",
       "6     13   216\n",
       "7     14   228\n",
       "8     15   206\n",
       "9     16   166\n",
       "10    17   118\n",
       "11    18   144\n",
       "12    19   116\n",
       "13    20   124\n",
       "14    21    38\n",
       "15    22    10"
      ]
     },
     "execution_count": 159,
     "metadata": {},
     "output_type": "execute_result"
    }
   ],
   "source": [
    "data_by_hourly_sku_count=merged_data.groupby(['Hour'], as_index=False).agg({'Item': 'count'})\n",
    "data_by_hourly_sku_count"
   ]
  },
  {
   "cell_type": "code",
   "execution_count": 163,
   "id": "c26d1a38",
   "metadata": {},
   "outputs": [
    {
     "data": {
      "image/png": "[encoded data removed]",
      "text/plain": [
       "<Figure size 800x600 with 1 Axes>"
      ]
     },
     "metadata": {},
     "output_type": "display_data"
    }
   ],
   "source": [
    "plt.figure(figsize=(8, 6))\n",
    "ax=sns.barplot(x='Hour', y='Item', data=data_by_hourly_sku_count)\n",
    "for bars in ax.containers:\n",
    "    ax.bar_label(bars)\n",
    "plt.title(\"Orders on hourly basis\")\n",
    "plt.ylabel(\"Total orders\")\n",
    "plt.xlabel(\"Hour\")\n",
    "plt.show()"
   ]
  },
  {
   "cell_type": "code",
   "execution_count": 28,
   "id": "994f1bef",
   "metadata": {},
   "outputs": [
    {
     "data": {
      "text/html": [
       "<div>\n",
       "<style scoped>\n",
       "    .dataframe tbody tr th:only-of-type {\n",
       "        vertical-align: middle;\n",
       "    }\n",
       "\n",
       "    .dataframe tbody tr th {\n",
       "        vertical-align: top;\n",
       "    }\n",
       "\n",
       "    .dataframe thead th {\n",
       "        text-align: right;\n",
       "    }\n",
       "</style>\n",
       "<table border=\"1\" class=\"dataframe\">\n",
       "  <thead>\n",
       "    <tr style=\"text-align: right;\">\n",
       "      <th></th>\n",
       "      <th>Hour</th>\n",
       "      <th>Item</th>\n",
       "      <th>Total Sale</th>\n",
       "    </tr>\n",
       "  </thead>\n",
       "  <tbody>\n",
       "    <tr>\n",
       "      <th>0</th>\n",
       "      <td>7</td>\n",
       "      <td>6</td>\n",
       "      <td>24</td>\n",
       "    </tr>\n",
       "    <tr>\n",
       "      <th>1</th>\n",
       "      <td>8</td>\n",
       "      <td>10</td>\n",
       "      <td>44</td>\n",
       "    </tr>\n",
       "    <tr>\n",
       "      <th>2</th>\n",
       "      <td>9</td>\n",
       "      <td>22</td>\n",
       "      <td>110</td>\n",
       "    </tr>\n",
       "    <tr>\n",
       "      <th>3</th>\n",
       "      <td>10</td>\n",
       "      <td>96</td>\n",
       "      <td>358</td>\n",
       "    </tr>\n",
       "    <tr>\n",
       "      <th>4</th>\n",
       "      <td>11</td>\n",
       "      <td>220</td>\n",
       "      <td>864</td>\n",
       "    </tr>\n",
       "    <tr>\n",
       "      <th>5</th>\n",
       "      <td>12</td>\n",
       "      <td>274</td>\n",
       "      <td>1072</td>\n",
       "    </tr>\n",
       "    <tr>\n",
       "      <th>6</th>\n",
       "      <td>13</td>\n",
       "      <td>216</td>\n",
       "      <td>770</td>\n",
       "    </tr>\n",
       "    <tr>\n",
       "      <th>7</th>\n",
       "      <td>14</td>\n",
       "      <td>228</td>\n",
       "      <td>884</td>\n",
       "    </tr>\n",
       "    <tr>\n",
       "      <th>8</th>\n",
       "      <td>15</td>\n",
       "      <td>206</td>\n",
       "      <td>868</td>\n",
       "    </tr>\n",
       "    <tr>\n",
       "      <th>9</th>\n",
       "      <td>16</td>\n",
       "      <td>166</td>\n",
       "      <td>658</td>\n",
       "    </tr>\n",
       "    <tr>\n",
       "      <th>10</th>\n",
       "      <td>17</td>\n",
       "      <td>118</td>\n",
       "      <td>496</td>\n",
       "    </tr>\n",
       "    <tr>\n",
       "      <th>11</th>\n",
       "      <td>18</td>\n",
       "      <td>144</td>\n",
       "      <td>602</td>\n",
       "    </tr>\n",
       "    <tr>\n",
       "      <th>12</th>\n",
       "      <td>19</td>\n",
       "      <td>116</td>\n",
       "      <td>486</td>\n",
       "    </tr>\n",
       "    <tr>\n",
       "      <th>13</th>\n",
       "      <td>20</td>\n",
       "      <td>124</td>\n",
       "      <td>498</td>\n",
       "    </tr>\n",
       "    <tr>\n",
       "      <th>14</th>\n",
       "      <td>21</td>\n",
       "      <td>38</td>\n",
       "      <td>134</td>\n",
       "    </tr>\n",
       "    <tr>\n",
       "      <th>15</th>\n",
       "      <td>22</td>\n",
       "      <td>10</td>\n",
       "      <td>38</td>\n",
       "    </tr>\n",
       "  </tbody>\n",
       "</table>\n",
       "</div>"
      ],
      "text/plain": [
       "    Hour  Item  Total Sale\n",
       "0      7     6          24\n",
       "1      8    10          44\n",
       "2      9    22         110\n",
       "3     10    96         358\n",
       "4     11   220         864\n",
       "5     12   274        1072\n",
       "6     13   216         770\n",
       "7     14   228         884\n",
       "8     15   206         868\n",
       "9     16   166         658\n",
       "10    17   118         496\n",
       "11    18   144         602\n",
       "12    19   116         486\n",
       "13    20   124         498\n",
       "14    21    38         134\n",
       "15    22    10          38"
      ]
     },
     "execution_count": 28,
     "metadata": {},
     "output_type": "execute_result"
    }
   ],
   "source": [
    "product_by_hour=merged_data.groupby(['Hour'], as_index=False).agg({'Item':'count', 'Total Sale': 'sum'})\n",
    "product_by_hour"
   ]
  },
  {
   "cell_type": "code",
   "execution_count": 29,
   "id": "af0aca00",
   "metadata": {},
   "outputs": [
    {
     "data": {
      "text/html": [
       "<div>\n",
       "<style scoped>\n",
       "    .dataframe tbody tr th:only-of-type {\n",
       "        vertical-align: middle;\n",
       "    }\n",
       "\n",
       "    .dataframe tbody tr th {\n",
       "        vertical-align: top;\n",
       "    }\n",
       "\n",
       "    .dataframe thead th {\n",
       "        text-align: right;\n",
       "    }\n",
       "</style>\n",
       "<table border=\"1\" class=\"dataframe\">\n",
       "  <thead>\n",
       "    <tr style=\"text-align: right;\">\n",
       "      <th></th>\n",
       "      <th>Weekday</th>\n",
       "      <th>Day</th>\n",
       "      <th>Total Sale</th>\n",
       "    </tr>\n",
       "  </thead>\n",
       "  <tbody>\n",
       "    <tr>\n",
       "      <th>0</th>\n",
       "      <td>Friday</td>\n",
       "      <td>6</td>\n",
       "      <td>798</td>\n",
       "    </tr>\n",
       "    <tr>\n",
       "      <th>1</th>\n",
       "      <td>Monday</td>\n",
       "      <td>2</td>\n",
       "      <td>1514</td>\n",
       "    </tr>\n",
       "    <tr>\n",
       "      <th>2</th>\n",
       "      <td>Saturday</td>\n",
       "      <td>7</td>\n",
       "      <td>696</td>\n",
       "    </tr>\n",
       "    <tr>\n",
       "      <th>3</th>\n",
       "      <td>Sunday</td>\n",
       "      <td>1</td>\n",
       "      <td>672</td>\n",
       "    </tr>\n",
       "    <tr>\n",
       "      <th>4</th>\n",
       "      <td>Thursday</td>\n",
       "      <td>5</td>\n",
       "      <td>854</td>\n",
       "    </tr>\n",
       "    <tr>\n",
       "      <th>5</th>\n",
       "      <td>Tuesday</td>\n",
       "      <td>3</td>\n",
       "      <td>2618</td>\n",
       "    </tr>\n",
       "    <tr>\n",
       "      <th>6</th>\n",
       "      <td>Wednesday</td>\n",
       "      <td>4</td>\n",
       "      <td>754</td>\n",
       "    </tr>\n",
       "  </tbody>\n",
       "</table>\n",
       "</div>"
      ],
      "text/plain": [
       "     Weekday  Day  Total Sale\n",
       "0     Friday    6         798\n",
       "1     Monday    2        1514\n",
       "2   Saturday    7         696\n",
       "3     Sunday    1         672\n",
       "4   Thursday    5         854\n",
       "5    Tuesday    3        2618\n",
       "6  Wednesday    4         754"
      ]
     },
     "execution_count": 29,
     "metadata": {},
     "output_type": "execute_result"
    }
   ],
   "source": [
    "data_by_weekly_basis=merged_data.groupby(['Weekday', 'Day'], as_index=False).agg({'Total Sale': 'sum'})\n",
    "data_by_weekly_basis"
   ]
  },
  {
   "cell_type": "code",
   "execution_count": 30,
   "id": "035ee186",
   "metadata": {},
   "outputs": [],
   "source": [
    "data_by_weekly_basis.sort_values(by=['Day'], inplace=True)"
   ]
  },
  {
   "cell_type": "code",
   "execution_count": 31,
   "id": "dff05094",
   "metadata": {},
   "outputs": [
    {
     "data": {
      "text/html": [
       "<div>\n",
       "<style scoped>\n",
       "    .dataframe tbody tr th:only-of-type {\n",
       "        vertical-align: middle;\n",
       "    }\n",
       "\n",
       "    .dataframe tbody tr th {\n",
       "        vertical-align: top;\n",
       "    }\n",
       "\n",
       "    .dataframe thead th {\n",
       "        text-align: right;\n",
       "    }\n",
       "</style>\n",
       "<table border=\"1\" class=\"dataframe\">\n",
       "  <thead>\n",
       "    <tr style=\"text-align: right;\">\n",
       "      <th></th>\n",
       "      <th>Weekday</th>\n",
       "      <th>Day</th>\n",
       "      <th>Item</th>\n",
       "    </tr>\n",
       "  </thead>\n",
       "  <tbody>\n",
       "    <tr>\n",
       "      <th>0</th>\n",
       "      <td>Friday</td>\n",
       "      <td>6</td>\n",
       "      <td>252</td>\n",
       "    </tr>\n",
       "    <tr>\n",
       "      <th>1</th>\n",
       "      <td>Monday</td>\n",
       "      <td>2</td>\n",
       "      <td>374</td>\n",
       "    </tr>\n",
       "    <tr>\n",
       "      <th>2</th>\n",
       "      <td>Saturday</td>\n",
       "      <td>7</td>\n",
       "      <td>204</td>\n",
       "    </tr>\n",
       "    <tr>\n",
       "      <th>3</th>\n",
       "      <td>Sunday</td>\n",
       "      <td>1</td>\n",
       "      <td>206</td>\n",
       "    </tr>\n",
       "    <tr>\n",
       "      <th>4</th>\n",
       "      <td>Thursday</td>\n",
       "      <td>5</td>\n",
       "      <td>236</td>\n",
       "    </tr>\n",
       "    <tr>\n",
       "      <th>5</th>\n",
       "      <td>Tuesday</td>\n",
       "      <td>3</td>\n",
       "      <td>480</td>\n",
       "    </tr>\n",
       "    <tr>\n",
       "      <th>6</th>\n",
       "      <td>Wednesday</td>\n",
       "      <td>4</td>\n",
       "      <td>242</td>\n",
       "    </tr>\n",
       "  </tbody>\n",
       "</table>\n",
       "</div>"
      ],
      "text/plain": [
       "     Weekday  Day  Item\n",
       "0     Friday    6   252\n",
       "1     Monday    2   374\n",
       "2   Saturday    7   204\n",
       "3     Sunday    1   206\n",
       "4   Thursday    5   236\n",
       "5    Tuesday    3   480\n",
       "6  Wednesday    4   242"
      ]
     },
     "execution_count": 31,
     "metadata": {},
     "output_type": "execute_result"
    }
   ],
   "source": [
    "data_by_weekly_basis_orders=merged_data.groupby(['Weekday', 'Day'], as_index=False).agg({'Item': 'count'})\n",
    "data_by_weekly_basis_orders"
   ]
  },
  {
   "cell_type": "code",
   "execution_count": 32,
   "id": "ffa12be8",
   "metadata": {},
   "outputs": [],
   "source": [
    "data_by_weekly_basis_orders.sort_values(by=['Day'], inplace=True)"
   ]
  },
  {
   "cell_type": "code",
   "execution_count": 33,
   "id": "7be90c73",
   "metadata": {},
   "outputs": [
    {
     "data": {
      "image/png": "[encoded data removed]",
      "text/plain": [
       "<Figure size 800x600 with 1 Axes>"
      ]
     },
     "metadata": {},
     "output_type": "display_data"
    }
   ],
   "source": [
    "plt.figure(figsize=(8, 6))\n",
    "ax=sns.barplot(x='Weekday', y='Item', data=data_by_weekly_basis_orders)\n",
    "for bars in ax.containers:\n",
    "    ax.bar_label(bars)\n",
    "plt.title(\"Orders on Weekday basis\")\n",
    "plt.ylabel(\"Number of orders\")\n",
    "plt.xlabel(\"Day of the week\")\n",
    "plt.show()"
   ]
  },
  {
   "cell_type": "code",
   "execution_count": 34,
   "id": "e2c53dc6",
   "metadata": {},
   "outputs": [
    {
     "data": {
      "text/plain": [
       "7"
      ]
     },
     "execution_count": 34,
     "metadata": {},
     "output_type": "execute_result"
    }
   ],
   "source": [
    "merged_data[merged_data['Weekday']=='Tuesday']['Hour'].min()"
   ]
  },
  {
   "cell_type": "code",
   "execution_count": 35,
   "id": "21db18b5",
   "metadata": {},
   "outputs": [
    {
     "data": {
      "image/png": "[encoded data removed]",
      "text/plain": [
       "<Figure size 1000x600 with 1 Axes>"
      ]
     },
     "metadata": {},
     "output_type": "display_data"
    }
   ],
   "source": [
    "plt.figure(figsize=(10, 6))\n",
    "ax=sns.barplot(x='Weekday', y='Total Sale', data=data_by_weekly_basis)\n",
    "for bars in ax.containers:\n",
    "    ax.bar_label(bars)\n",
    "plt.title(\"Total Sale on weekly basis\")\n",
    "plt.show()"
   ]
  },
  {
   "cell_type": "markdown",
   "id": "cbc242fb",
   "metadata": {},
   "source": [
    "### Individual SKU's sold"
   ]
  },
  {
   "cell_type": "code",
   "execution_count": 246,
   "id": "3499b0e7",
   "metadata": {},
   "outputs": [
    {
     "name": "stdout",
     "output_type": "stream",
     "text": [
      "Carbonated Beverage              308\n",
      "Super Burger                     304\n",
      "Super Stacker Coronary Burger    298\n",
      "Plain Burger                     288\n",
      "Bacon Burger                     270\n",
      "Cheese Burger Combo              264\n",
      "Shake                            262\n",
      "Name: Item, dtype: int64\n",
      "Total Quantity: 1994\n"
     ]
    }
   ],
   "source": [
    "print(merged_data['Item'].value_counts())\n",
    "print(\"Total Quantity:\", sum(merged_data['Item'].value_counts()))"
   ]
  },
  {
   "cell_type": "code",
   "execution_count": 215,
   "id": "1c4f0958",
   "metadata": {},
   "outputs": [
    {
     "data": {
      "image/png": "[encoded data removed]",
      "text/plain": [
       "<Figure size 640x480 with 1 Axes>"
      ]
     },
     "metadata": {},
     "output_type": "display_data"
    }
   ],
   "source": [
    "labels=['Carbonated Beverage', 'Super Burger', 'Super Stacker Coronary Burger', 'Plain Burger', 'Bacon Burger', 'Cheese Burger Combo', 'Shake']\n",
    "plt.pie(merged_data['Item'].value_counts(), autopct='%1.1f%%', labels=labels)\n",
    "plt.title(\"Orders contribution by SKUs\")\n",
    "plt.show()"
   ]
  },
  {
   "cell_type": "code",
   "execution_count": 202,
   "id": "f092a0aa",
   "metadata": {},
   "outputs": [
    {
     "data": {
      "text/html": [
       "<div>\n",
       "<style scoped>\n",
       "    .dataframe tbody tr th:only-of-type {\n",
       "        vertical-align: middle;\n",
       "    }\n",
       "\n",
       "    .dataframe tbody tr th {\n",
       "        vertical-align: top;\n",
       "    }\n",
       "\n",
       "    .dataframe thead th {\n",
       "        text-align: right;\n",
       "    }\n",
       "</style>\n",
       "<table border=\"1\" class=\"dataframe\">\n",
       "  <thead>\n",
       "    <tr style=\"text-align: right;\">\n",
       "      <th></th>\n",
       "      <th>Date</th>\n",
       "      <th>Day</th>\n",
       "      <th>Weekday</th>\n",
       "      <th>Hour</th>\n",
       "      <th>Minute</th>\n",
       "      <th>Total Sale</th>\n",
       "      <th>Cost</th>\n",
       "      <th>Profit</th>\n",
       "      <th>Item</th>\n",
       "      <th>Price</th>\n",
       "    </tr>\n",
       "  </thead>\n",
       "  <tbody>\n",
       "    <tr>\n",
       "      <th>0</th>\n",
       "      <td>2007-11-26</td>\n",
       "      <td>2</td>\n",
       "      <td>Monday</td>\n",
       "      <td>11</td>\n",
       "      <td>50</td>\n",
       "      <td>4</td>\n",
       "      <td>1.6</td>\n",
       "      <td>2.4</td>\n",
       "      <td>Super Burger</td>\n",
       "      <td>4</td>\n",
       "    </tr>\n",
       "    <tr>\n",
       "      <th>1</th>\n",
       "      <td>2007-11-13</td>\n",
       "      <td>3</td>\n",
       "      <td>Tuesday</td>\n",
       "      <td>12</td>\n",
       "      <td>4</td>\n",
       "      <td>4</td>\n",
       "      <td>1.6</td>\n",
       "      <td>2.4</td>\n",
       "      <td>Super Burger</td>\n",
       "      <td>4</td>\n",
       "    </tr>\n",
       "    <tr>\n",
       "      <th>2</th>\n",
       "      <td>2007-11-20</td>\n",
       "      <td>3</td>\n",
       "      <td>Tuesday</td>\n",
       "      <td>19</td>\n",
       "      <td>18</td>\n",
       "      <td>4</td>\n",
       "      <td>1.6</td>\n",
       "      <td>2.4</td>\n",
       "      <td>Super Burger</td>\n",
       "      <td>4</td>\n",
       "    </tr>\n",
       "    <tr>\n",
       "      <th>3</th>\n",
       "      <td>2007-11-27</td>\n",
       "      <td>3</td>\n",
       "      <td>Tuesday</td>\n",
       "      <td>15</td>\n",
       "      <td>26</td>\n",
       "      <td>7</td>\n",
       "      <td>9.8</td>\n",
       "      <td>-2.8</td>\n",
       "      <td>Super Stacker Coronary Burger</td>\n",
       "      <td>7</td>\n",
       "    </tr>\n",
       "    <tr>\n",
       "      <th>4</th>\n",
       "      <td>2007-11-13</td>\n",
       "      <td>3</td>\n",
       "      <td>Tuesday</td>\n",
       "      <td>17</td>\n",
       "      <td>24</td>\n",
       "      <td>7</td>\n",
       "      <td>9.8</td>\n",
       "      <td>-2.8</td>\n",
       "      <td>Super Stacker Coronary Burger</td>\n",
       "      <td>7</td>\n",
       "    </tr>\n",
       "  </tbody>\n",
       "</table>\n",
       "</div>"
      ],
      "text/plain": [
       "        Date  Day  Weekday  Hour  Minute  Total Sale  Cost  Profit  \\\n",
       "0 2007-11-26    2   Monday    11      50           4   1.6     2.4   \n",
       "1 2007-11-13    3  Tuesday    12       4           4   1.6     2.4   \n",
       "2 2007-11-20    3  Tuesday    19      18           4   1.6     2.4   \n",
       "3 2007-11-27    3  Tuesday    15      26           7   9.8    -2.8   \n",
       "4 2007-11-13    3  Tuesday    17      24           7   9.8    -2.8   \n",
       "\n",
       "                            Item Price  \n",
       "0                   Super Burger     4  \n",
       "1                   Super Burger     4  \n",
       "2                   Super Burger     4  \n",
       "3  Super Stacker Coronary Burger     7  \n",
       "4  Super Stacker Coronary Burger     7  "
      ]
     },
     "execution_count": 202,
     "metadata": {},
     "output_type": "execute_result"
    }
   ],
   "source": [
    "merged_data.head()"
   ]
  },
  {
   "cell_type": "code",
   "execution_count": 203,
   "id": "c9f0e52e",
   "metadata": {},
   "outputs": [
    {
     "data": {
      "text/plain": [
       "Item\n",
       "Bacon Burger                     1350\n",
       "Carbonated Beverage               308\n",
       "Cheese Burger Combo              1584\n",
       "Plain Burger                      576\n",
       "Shake                             786\n",
       "Super Burger                     1216\n",
       "Super Stacker Coronary Burger    2086\n",
       "Name: Total Sale, dtype: int64"
      ]
     },
     "execution_count": 203,
     "metadata": {},
     "output_type": "execute_result"
    }
   ],
   "source": [
    "item_total_sale=merged_data.groupby(['Item'])['Total Sale'].sum()\n",
    "item_total_sale"
   ]
  },
  {
   "cell_type": "code",
   "execution_count": 216,
   "id": "ff59abec",
   "metadata": {
    "scrolled": true
   },
   "outputs": [
    {
     "data": {
      "image/png": "[encoded data removed]",
      "text/plain": [
       "<Figure size 640x480 with 1 Axes>"
      ]
     },
     "metadata": {},
     "output_type": "display_data"
    }
   ],
   "source": [
    "color_dict = {\n",
    "    'Bacon Burger': '#5b4075',\n",
    "    'Carbonated Beverage': '#1f77b4',\n",
    "    'Cheese Burger Combo': '#8c564c',\n",
    "    'Plain Burger': '#d62727',\n",
    "    'Shake': '#c266a5',\n",
    "    'Super Burger': '#fc7d0e',\n",
    "    'Super Stacker Coronary Burger': '#248123'\n",
    "}\n",
    "colors = [color_dict[item] for item in item_total_sale.index]\n",
    "item_total_sale.sort_values(ascending=False, inplace=True)\n",
    "items = item_total_sale.index\n",
    "plt.pie(item_total_sale, autopct='%1.1f%%', labels=items, colors=colors)\n",
    "plt.title(\"Sales contribution by SKUs\")\n",
    "plt.show()"
   ]
  },
  {
   "cell_type": "code",
   "execution_count": 61,
   "id": "fb9fecef",
   "metadata": {},
   "outputs": [
    {
     "data": {
      "text/html": [
       "<div>\n",
       "<style scoped>\n",
       "    .dataframe tbody tr th:only-of-type {\n",
       "        vertical-align: middle;\n",
       "    }\n",
       "\n",
       "    .dataframe tbody tr th {\n",
       "        vertical-align: top;\n",
       "    }\n",
       "\n",
       "    .dataframe thead th {\n",
       "        text-align: right;\n",
       "    }\n",
       "</style>\n",
       "<table border=\"1\" class=\"dataframe\">\n",
       "  <thead>\n",
       "    <tr style=\"text-align: right;\">\n",
       "      <th></th>\n",
       "      <th>Date</th>\n",
       "      <th>Day</th>\n",
       "      <th>Weekday</th>\n",
       "      <th>Hour</th>\n",
       "      <th>Minute</th>\n",
       "      <th>Total Sale</th>\n",
       "      <th>Cost</th>\n",
       "      <th>Profit</th>\n",
       "      <th>Item</th>\n",
       "      <th>Price</th>\n",
       "    </tr>\n",
       "  </thead>\n",
       "  <tbody>\n",
       "    <tr>\n",
       "      <th>29</th>\n",
       "      <td>2007-11-12</td>\n",
       "      <td>2</td>\n",
       "      <td>Monday</td>\n",
       "      <td>17</td>\n",
       "      <td>19</td>\n",
       "      <td>5</td>\n",
       "      <td>6.5</td>\n",
       "      <td>-1.5</td>\n",
       "      <td>Bacon Burger</td>\n",
       "      <td>5</td>\n",
       "    </tr>\n",
       "    <tr>\n",
       "      <th>36</th>\n",
       "      <td>2007-11-05</td>\n",
       "      <td>2</td>\n",
       "      <td>Monday</td>\n",
       "      <td>9</td>\n",
       "      <td>8</td>\n",
       "      <td>5</td>\n",
       "      <td>6.5</td>\n",
       "      <td>-1.5</td>\n",
       "      <td>Bacon Burger</td>\n",
       "      <td>5</td>\n",
       "    </tr>\n",
       "    <tr>\n",
       "      <th>38</th>\n",
       "      <td>2007-11-19</td>\n",
       "      <td>2</td>\n",
       "      <td>Monday</td>\n",
       "      <td>13</td>\n",
       "      <td>22</td>\n",
       "      <td>5</td>\n",
       "      <td>6.5</td>\n",
       "      <td>-1.5</td>\n",
       "      <td>Bacon Burger</td>\n",
       "      <td>5</td>\n",
       "    </tr>\n",
       "    <tr>\n",
       "      <th>48</th>\n",
       "      <td>2007-11-26</td>\n",
       "      <td>2</td>\n",
       "      <td>Monday</td>\n",
       "      <td>15</td>\n",
       "      <td>15</td>\n",
       "      <td>5</td>\n",
       "      <td>6.5</td>\n",
       "      <td>-1.5</td>\n",
       "      <td>Bacon Burger</td>\n",
       "      <td>5</td>\n",
       "    </tr>\n",
       "    <tr>\n",
       "      <th>54</th>\n",
       "      <td>2007-11-12</td>\n",
       "      <td>2</td>\n",
       "      <td>Monday</td>\n",
       "      <td>20</td>\n",
       "      <td>36</td>\n",
       "      <td>5</td>\n",
       "      <td>6.5</td>\n",
       "      <td>-1.5</td>\n",
       "      <td>Bacon Burger</td>\n",
       "      <td>5</td>\n",
       "    </tr>\n",
       "    <tr>\n",
       "      <th>...</th>\n",
       "      <td>...</td>\n",
       "      <td>...</td>\n",
       "      <td>...</td>\n",
       "      <td>...</td>\n",
       "      <td>...</td>\n",
       "      <td>...</td>\n",
       "      <td>...</td>\n",
       "      <td>...</td>\n",
       "      <td>...</td>\n",
       "      <td>...</td>\n",
       "    </tr>\n",
       "    <tr>\n",
       "      <th>1943</th>\n",
       "      <td>2007-11-26</td>\n",
       "      <td>2</td>\n",
       "      <td>Monday</td>\n",
       "      <td>13</td>\n",
       "      <td>41</td>\n",
       "      <td>5</td>\n",
       "      <td>6.5</td>\n",
       "      <td>-1.5</td>\n",
       "      <td>Bacon Burger</td>\n",
       "      <td>5</td>\n",
       "    </tr>\n",
       "    <tr>\n",
       "      <th>1946</th>\n",
       "      <td>2007-11-19</td>\n",
       "      <td>2</td>\n",
       "      <td>Monday</td>\n",
       "      <td>11</td>\n",
       "      <td>56</td>\n",
       "      <td>5</td>\n",
       "      <td>6.5</td>\n",
       "      <td>-1.5</td>\n",
       "      <td>Bacon Burger</td>\n",
       "      <td>5</td>\n",
       "    </tr>\n",
       "    <tr>\n",
       "      <th>1952</th>\n",
       "      <td>2007-11-12</td>\n",
       "      <td>2</td>\n",
       "      <td>Monday</td>\n",
       "      <td>10</td>\n",
       "      <td>11</td>\n",
       "      <td>5</td>\n",
       "      <td>6.5</td>\n",
       "      <td>-1.5</td>\n",
       "      <td>Bacon Burger</td>\n",
       "      <td>5</td>\n",
       "    </tr>\n",
       "    <tr>\n",
       "      <th>1962</th>\n",
       "      <td>2007-11-26</td>\n",
       "      <td>2</td>\n",
       "      <td>Monday</td>\n",
       "      <td>14</td>\n",
       "      <td>40</td>\n",
       "      <td>5</td>\n",
       "      <td>6.5</td>\n",
       "      <td>-1.5</td>\n",
       "      <td>Bacon Burger</td>\n",
       "      <td>5</td>\n",
       "    </tr>\n",
       "    <tr>\n",
       "      <th>1993</th>\n",
       "      <td>2007-11-05</td>\n",
       "      <td>2</td>\n",
       "      <td>Monday</td>\n",
       "      <td>17</td>\n",
       "      <td>44</td>\n",
       "      <td>5</td>\n",
       "      <td>6.5</td>\n",
       "      <td>-1.5</td>\n",
       "      <td>Bacon Burger</td>\n",
       "      <td>5</td>\n",
       "    </tr>\n",
       "  </tbody>\n",
       "</table>\n",
       "<p>176 rows × 10 columns</p>\n",
       "</div>"
      ],
      "text/plain": [
       "           Date  Day Weekday  Hour  Minute  Total Sale  Cost  Profit  \\\n",
       "29   2007-11-12    2  Monday    17      19           5   6.5    -1.5   \n",
       "36   2007-11-05    2  Monday     9       8           5   6.5    -1.5   \n",
       "38   2007-11-19    2  Monday    13      22           5   6.5    -1.5   \n",
       "48   2007-11-26    2  Monday    15      15           5   6.5    -1.5   \n",
       "54   2007-11-12    2  Monday    20      36           5   6.5    -1.5   \n",
       "...         ...  ...     ...   ...     ...         ...   ...     ...   \n",
       "1943 2007-11-26    2  Monday    13      41           5   6.5    -1.5   \n",
       "1946 2007-11-19    2  Monday    11      56           5   6.5    -1.5   \n",
       "1952 2007-11-12    2  Monday    10      11           5   6.5    -1.5   \n",
       "1962 2007-11-26    2  Monday    14      40           5   6.5    -1.5   \n",
       "1993 2007-11-05    2  Monday    17      44           5   6.5    -1.5   \n",
       "\n",
       "              Item Price  \n",
       "29    Bacon Burger     5  \n",
       "36    Bacon Burger     5  \n",
       "38    Bacon Burger     5  \n",
       "48    Bacon Burger     5  \n",
       "54    Bacon Burger     5  \n",
       "...            ...   ...  \n",
       "1943  Bacon Burger     5  \n",
       "1946  Bacon Burger     5  \n",
       "1952  Bacon Burger     5  \n",
       "1962  Bacon Burger     5  \n",
       "1993  Bacon Burger     5  \n",
       "\n",
       "[176 rows x 10 columns]"
      ]
     },
     "execution_count": 61,
     "metadata": {},
     "output_type": "execute_result"
    }
   ],
   "source": [
    "bacon_on_monday=merged_data[(merged_data['Item']=='Bacon Burger') & (merged_data['Weekday']=='Monday')]\n",
    "bacon_on_monday"
   ]
  },
  {
   "cell_type": "code",
   "execution_count": 220,
   "id": "884a29e2",
   "metadata": {},
   "outputs": [
    {
     "data": {
      "text/html": [
       "<div>\n",
       "<style scoped>\n",
       "    .dataframe tbody tr th:only-of-type {\n",
       "        vertical-align: middle;\n",
       "    }\n",
       "\n",
       "    .dataframe tbody tr th {\n",
       "        vertical-align: top;\n",
       "    }\n",
       "\n",
       "    .dataframe thead th {\n",
       "        text-align: right;\n",
       "    }\n",
       "</style>\n",
       "<table border=\"1\" class=\"dataframe\">\n",
       "  <thead>\n",
       "    <tr style=\"text-align: right;\">\n",
       "      <th></th>\n",
       "      <th>Item</th>\n",
       "      <th>Profit</th>\n",
       "    </tr>\n",
       "  </thead>\n",
       "  <tbody>\n",
       "    <tr>\n",
       "      <th>6</th>\n",
       "      <td>Super Stacker Coronary Burger</td>\n",
       "      <td>-834.4</td>\n",
       "    </tr>\n",
       "    <tr>\n",
       "      <th>0</th>\n",
       "      <td>Bacon Burger</td>\n",
       "      <td>-405.0</td>\n",
       "    </tr>\n",
       "    <tr>\n",
       "      <th>1</th>\n",
       "      <td>Carbonated Beverage</td>\n",
       "      <td>277.2</td>\n",
       "    </tr>\n",
       "    <tr>\n",
       "      <th>3</th>\n",
       "      <td>Plain Burger</td>\n",
       "      <td>345.6</td>\n",
       "    </tr>\n",
       "    <tr>\n",
       "      <th>4</th>\n",
       "      <td>Shake</td>\n",
       "      <td>628.8</td>\n",
       "    </tr>\n",
       "    <tr>\n",
       "      <th>5</th>\n",
       "      <td>Super Burger</td>\n",
       "      <td>729.6</td>\n",
       "    </tr>\n",
       "    <tr>\n",
       "      <th>2</th>\n",
       "      <td>Cheese Burger Combo</td>\n",
       "      <td>871.2</td>\n",
       "    </tr>\n",
       "  </tbody>\n",
       "</table>\n",
       "</div>"
      ],
      "text/plain": [
       "                            Item  Profit\n",
       "6  Super Stacker Coronary Burger  -834.4\n",
       "0                   Bacon Burger  -405.0\n",
       "1            Carbonated Beverage   277.2\n",
       "3                   Plain Burger   345.6\n",
       "4                          Shake   628.8\n",
       "5                   Super Burger   729.6\n",
       "2            Cheese Burger Combo   871.2"
      ]
     },
     "execution_count": 220,
     "metadata": {},
     "output_type": "execute_result"
    }
   ],
   "source": [
    "items_grouped_profit=merged_data.groupby(['Item'], as_index=False)['Profit'].sum()\n",
    "items_grouped_profit.sort_values(by=['Profit'], inplace=True)\n",
    "items_grouped_profit"
   ]
  },
  {
   "cell_type": "code",
   "execution_count": 244,
   "id": "dcd6ad7a",
   "metadata": {},
   "outputs": [
    {
     "data": {
      "image/png": "[encoded data removed]",
      "text/plain": [
       "<Figure size 800x600 with 1 Axes>"
      ]
     },
     "metadata": {},
     "output_type": "display_data"
    }
   ],
   "source": [
    "plt.figure(figsize=(8, 6))\n",
    "ax=sns.barplot(x='Item', y='Profit', data=items_grouped_profit, palette=['#d784bd', '#9372b2', '#3274a1', '#e1812b', '#3b923a', '#c03d3e', '#845b53'])\n",
    "for bars in ax.containers:\n",
    "    ax.bar_label(bars)\n",
    "plt.xticks(rotation=45)\n",
    "plt.title(\"Profit distribution by SKUs\")\n",
    "plt.xlabel(\"SKUs\")\n",
    "plt.ylabel(\"Profit ($)\")\n",
    "plt.show()"
   ]
  },
  {
   "cell_type": "code",
   "execution_count": 222,
   "id": "db3e30f1",
   "metadata": {},
   "outputs": [
    {
     "data": {
      "text/html": [
       "<div>\n",
       "<style scoped>\n",
       "    .dataframe tbody tr th:only-of-type {\n",
       "        vertical-align: middle;\n",
       "    }\n",
       "\n",
       "    .dataframe tbody tr th {\n",
       "        vertical-align: top;\n",
       "    }\n",
       "\n",
       "    .dataframe thead th {\n",
       "        text-align: right;\n",
       "    }\n",
       "</style>\n",
       "<table border=\"1\" class=\"dataframe\">\n",
       "  <thead>\n",
       "    <tr style=\"text-align: right;\">\n",
       "      <th></th>\n",
       "      <th>Item</th>\n",
       "      <th>Total Sale</th>\n",
       "    </tr>\n",
       "  </thead>\n",
       "  <tbody>\n",
       "    <tr>\n",
       "      <th>1</th>\n",
       "      <td>Carbonated Beverage</td>\n",
       "      <td>308</td>\n",
       "    </tr>\n",
       "    <tr>\n",
       "      <th>3</th>\n",
       "      <td>Plain Burger</td>\n",
       "      <td>576</td>\n",
       "    </tr>\n",
       "    <tr>\n",
       "      <th>4</th>\n",
       "      <td>Shake</td>\n",
       "      <td>786</td>\n",
       "    </tr>\n",
       "    <tr>\n",
       "      <th>5</th>\n",
       "      <td>Super Burger</td>\n",
       "      <td>1216</td>\n",
       "    </tr>\n",
       "    <tr>\n",
       "      <th>0</th>\n",
       "      <td>Bacon Burger</td>\n",
       "      <td>1350</td>\n",
       "    </tr>\n",
       "    <tr>\n",
       "      <th>2</th>\n",
       "      <td>Cheese Burger Combo</td>\n",
       "      <td>1584</td>\n",
       "    </tr>\n",
       "    <tr>\n",
       "      <th>6</th>\n",
       "      <td>Super Stacker Coronary Burger</td>\n",
       "      <td>2086</td>\n",
       "    </tr>\n",
       "  </tbody>\n",
       "</table>\n",
       "</div>"
      ],
      "text/plain": [
       "                            Item  Total Sale\n",
       "1            Carbonated Beverage         308\n",
       "3                   Plain Burger         576\n",
       "4                          Shake         786\n",
       "5                   Super Burger        1216\n",
       "0                   Bacon Burger        1350\n",
       "2            Cheese Burger Combo        1584\n",
       "6  Super Stacker Coronary Burger        2086"
      ]
     },
     "execution_count": 222,
     "metadata": {},
     "output_type": "execute_result"
    }
   ],
   "source": [
    "items_grouped=merged_data.groupby(['Item'], as_index=False)['Total Sale'].sum()\n",
    "items_grouped.sort_values(by=['Total Sale'], inplace=True)\n",
    "items_grouped"
   ]
  },
  {
   "cell_type": "code",
   "execution_count": 223,
   "id": "c8382b29",
   "metadata": {},
   "outputs": [
    {
     "data": {
      "image/png": "[encoded data removed]",
      "text/plain": [
       "<Figure size 800x600 with 1 Axes>"
      ]
     },
     "metadata": {},
     "output_type": "display_data"
    }
   ],
   "source": [
    "plt.figure(figsize=(8, 6))\n",
    "ax=sns.barplot(x='Item', y='Total Sale', data=items_grouped)\n",
    "for bars in ax.containers:\n",
    "    ax.bar_label(bars)\n",
    "plt.xticks(rotation=45)\n",
    "plt.title(\"Sales distribution by SKUs\")\n",
    "plt.xlabel(\"SKUs\")\n",
    "plt.ylabel(\"Sales ($)\")\n",
    "plt.show()"
   ]
  },
  {
   "cell_type": "code",
   "execution_count": 167,
   "id": "ea1655a6",
   "metadata": {},
   "outputs": [
    {
     "data": {
      "text/html": [
       "<div>\n",
       "<style scoped>\n",
       "    .dataframe tbody tr th:only-of-type {\n",
       "        vertical-align: middle;\n",
       "    }\n",
       "\n",
       "    .dataframe tbody tr th {\n",
       "        vertical-align: top;\n",
       "    }\n",
       "\n",
       "    .dataframe thead th {\n",
       "        text-align: right;\n",
       "    }\n",
       "</style>\n",
       "<table border=\"1\" class=\"dataframe\">\n",
       "  <thead>\n",
       "    <tr style=\"text-align: right;\">\n",
       "      <th></th>\n",
       "      <th>Date</th>\n",
       "      <th>Day</th>\n",
       "      <th>Weekday</th>\n",
       "      <th>Hour</th>\n",
       "      <th>Minute</th>\n",
       "      <th>Total Sale</th>\n",
       "      <th>Cost</th>\n",
       "      <th>Profit</th>\n",
       "      <th>Item</th>\n",
       "      <th>Price</th>\n",
       "    </tr>\n",
       "  </thead>\n",
       "  <tbody>\n",
       "    <tr>\n",
       "      <th>0</th>\n",
       "      <td>2007-11-26</td>\n",
       "      <td>2</td>\n",
       "      <td>Monday</td>\n",
       "      <td>11</td>\n",
       "      <td>50</td>\n",
       "      <td>4</td>\n",
       "      <td>1.6</td>\n",
       "      <td>2.4</td>\n",
       "      <td>Super Burger</td>\n",
       "      <td>4</td>\n",
       "    </tr>\n",
       "    <tr>\n",
       "      <th>1</th>\n",
       "      <td>2007-11-13</td>\n",
       "      <td>3</td>\n",
       "      <td>Tuesday</td>\n",
       "      <td>12</td>\n",
       "      <td>4</td>\n",
       "      <td>4</td>\n",
       "      <td>1.6</td>\n",
       "      <td>2.4</td>\n",
       "      <td>Super Burger</td>\n",
       "      <td>4</td>\n",
       "    </tr>\n",
       "    <tr>\n",
       "      <th>2</th>\n",
       "      <td>2007-11-20</td>\n",
       "      <td>3</td>\n",
       "      <td>Tuesday</td>\n",
       "      <td>19</td>\n",
       "      <td>18</td>\n",
       "      <td>4</td>\n",
       "      <td>1.6</td>\n",
       "      <td>2.4</td>\n",
       "      <td>Super Burger</td>\n",
       "      <td>4</td>\n",
       "    </tr>\n",
       "    <tr>\n",
       "      <th>3</th>\n",
       "      <td>2007-11-27</td>\n",
       "      <td>3</td>\n",
       "      <td>Tuesday</td>\n",
       "      <td>15</td>\n",
       "      <td>26</td>\n",
       "      <td>7</td>\n",
       "      <td>9.8</td>\n",
       "      <td>-2.8</td>\n",
       "      <td>Super Stacker Coronary Burger</td>\n",
       "      <td>7</td>\n",
       "    </tr>\n",
       "    <tr>\n",
       "      <th>4</th>\n",
       "      <td>2007-11-13</td>\n",
       "      <td>3</td>\n",
       "      <td>Tuesday</td>\n",
       "      <td>17</td>\n",
       "      <td>24</td>\n",
       "      <td>7</td>\n",
       "      <td>9.8</td>\n",
       "      <td>-2.8</td>\n",
       "      <td>Super Stacker Coronary Burger</td>\n",
       "      <td>7</td>\n",
       "    </tr>\n",
       "    <tr>\n",
       "      <th>5</th>\n",
       "      <td>2007-11-17</td>\n",
       "      <td>7</td>\n",
       "      <td>Saturday</td>\n",
       "      <td>13</td>\n",
       "      <td>11</td>\n",
       "      <td>5</td>\n",
       "      <td>6.5</td>\n",
       "      <td>-1.5</td>\n",
       "      <td>Bacon Burger</td>\n",
       "      <td>5</td>\n",
       "    </tr>\n",
       "    <tr>\n",
       "      <th>6</th>\n",
       "      <td>2007-11-28</td>\n",
       "      <td>4</td>\n",
       "      <td>Wednesday</td>\n",
       "      <td>17</td>\n",
       "      <td>30</td>\n",
       "      <td>1</td>\n",
       "      <td>0.1</td>\n",
       "      <td>0.9</td>\n",
       "      <td>Carbonated Beverage</td>\n",
       "      <td>1</td>\n",
       "    </tr>\n",
       "    <tr>\n",
       "      <th>7</th>\n",
       "      <td>2007-11-18</td>\n",
       "      <td>1</td>\n",
       "      <td>Sunday</td>\n",
       "      <td>15</td>\n",
       "      <td>2</td>\n",
       "      <td>2</td>\n",
       "      <td>0.8</td>\n",
       "      <td>1.2</td>\n",
       "      <td>Plain Burger</td>\n",
       "      <td>2</td>\n",
       "    </tr>\n",
       "    <tr>\n",
       "      <th>8</th>\n",
       "      <td>2007-11-01</td>\n",
       "      <td>5</td>\n",
       "      <td>Thursday</td>\n",
       "      <td>20</td>\n",
       "      <td>20</td>\n",
       "      <td>3</td>\n",
       "      <td>0.6</td>\n",
       "      <td>2.4</td>\n",
       "      <td>Shake</td>\n",
       "      <td>3</td>\n",
       "    </tr>\n",
       "    <tr>\n",
       "      <th>9</th>\n",
       "      <td>2007-11-20</td>\n",
       "      <td>3</td>\n",
       "      <td>Tuesday</td>\n",
       "      <td>17</td>\n",
       "      <td>38</td>\n",
       "      <td>7</td>\n",
       "      <td>9.8</td>\n",
       "      <td>-2.8</td>\n",
       "      <td>Super Stacker Coronary Burger</td>\n",
       "      <td>7</td>\n",
       "    </tr>\n",
       "  </tbody>\n",
       "</table>\n",
       "</div>"
      ],
      "text/plain": [
       "        Date  Day    Weekday  Hour  Minute  Total Sale  Cost  Profit  \\\n",
       "0 2007-11-26    2     Monday    11      50           4   1.6     2.4   \n",
       "1 2007-11-13    3    Tuesday    12       4           4   1.6     2.4   \n",
       "2 2007-11-20    3    Tuesday    19      18           4   1.6     2.4   \n",
       "3 2007-11-27    3    Tuesday    15      26           7   9.8    -2.8   \n",
       "4 2007-11-13    3    Tuesday    17      24           7   9.8    -2.8   \n",
       "5 2007-11-17    7   Saturday    13      11           5   6.5    -1.5   \n",
       "6 2007-11-28    4  Wednesday    17      30           1   0.1     0.9   \n",
       "7 2007-11-18    1     Sunday    15       2           2   0.8     1.2   \n",
       "8 2007-11-01    5   Thursday    20      20           3   0.6     2.4   \n",
       "9 2007-11-20    3    Tuesday    17      38           7   9.8    -2.8   \n",
       "\n",
       "                            Item Price  \n",
       "0                   Super Burger     4  \n",
       "1                   Super Burger     4  \n",
       "2                   Super Burger     4  \n",
       "3  Super Stacker Coronary Burger     7  \n",
       "4  Super Stacker Coronary Burger     7  \n",
       "5                   Bacon Burger     5  \n",
       "6            Carbonated Beverage     1  \n",
       "7                   Plain Burger     2  \n",
       "8                          Shake     3  \n",
       "9  Super Stacker Coronary Burger     7  "
      ]
     },
     "execution_count": 167,
     "metadata": {},
     "output_type": "execute_result"
    }
   ],
   "source": [
    "merged_data.head(10)"
   ]
  },
  {
   "cell_type": "code",
   "execution_count": 168,
   "id": "894f9a0c",
   "metadata": {},
   "outputs": [
    {
     "name": "stdout",
     "output_type": "stream",
     "text": [
      "                            Item  Profit  Total Sale    Cost\n",
      "6  Super Stacker Coronary Burger  -834.4        2086  2920.4\n",
      "2            Cheese Burger Combo   871.2        1584   712.8\n",
      "0                   Bacon Burger  -405.0        1350  1755.0\n",
      "5                   Super Burger   729.6        1216   486.4\n",
      "4                          Shake   628.8         786   157.2\n",
      "3                   Plain Burger   345.6         576   230.4\n",
      "1            Carbonated Beverage   277.2         308    30.8\n"
     ]
    }
   ],
   "source": [
    "item_profitability = merged_data.groupby('Item').agg({\n",
    "    'Profit': 'sum',\n",
    "    'Total Sale': 'sum',\n",
    "    'Cost': 'sum',\n",
    "}).reset_index()\n",
    "\n",
    "#item_profitability['Overall Profit Margin'] = item_profitability['Profit'] / item_profitability['Total Sale']\n",
    "\n",
    "print(item_profitability.sort_values(by='Total Sale', ascending=False))"
   ]
  },
  {
   "cell_type": "code",
   "execution_count": 170,
   "id": "64e82f5b",
   "metadata": {},
   "outputs": [
    {
     "name": "stdout",
     "output_type": "stream",
     "text": [
      "                            Item  Total Sale  Profit  Sales Volume\n",
      "2            Cheese Burger Combo        1584   871.2           264\n",
      "5                   Super Burger        1216   729.6           304\n",
      "4                          Shake         786   628.8           262\n",
      "3                   Plain Burger         576   345.6           288\n",
      "1            Carbonated Beverage         308   277.2           308\n",
      "0                   Bacon Burger        1350  -405.0           270\n",
      "6  Super Stacker Coronary Burger        2086  -834.4           298\n"
     ]
    }
   ],
   "source": [
    "sales_volume_price = merged_data.groupby('Item').agg({\n",
    "    'Total Sale': 'sum',\n",
    "    'Profit': 'sum',\n",
    "    'Item': 'count'\n",
    "}).rename(columns={'Item': 'Sales Volume'}).reset_index()\n",
    "\n",
    "print(sales_volume_price.sort_values(by='Profit', ascending=False))"
   ]
  },
  {
   "cell_type": "markdown",
   "id": "a995b2e3",
   "metadata": {},
   "source": [
    "### KPIs"
   ]
  },
  {
   "cell_type": "code",
   "execution_count": 171,
   "id": "b5ec4fc0",
   "metadata": {},
   "outputs": [
    {
     "name": "stdout",
     "output_type": "stream",
     "text": [
      "Gross Profit Margin: 20.40222615734885\n"
     ]
    }
   ],
   "source": [
    "gross_profit_margin = (merged_data['Profit'].sum() / merged_data['Total Sale'].sum()) * 100\n",
    "print(\"Gross Profit Margin:\", gross_profit_margin)"
   ]
  },
  {
   "cell_type": "code",
   "execution_count": 172,
   "id": "e46c0fde",
   "metadata": {},
   "outputs": [
    {
     "name": "stdout",
     "output_type": "stream",
     "text": [
      "Total Revenue: 7906\n"
     ]
    }
   ],
   "source": [
    "total_sales=merged_data['Total Sale'].sum()\n",
    "print(\"Total Revenue:\", total_sales)"
   ]
  },
  {
   "cell_type": "code",
   "execution_count": 173,
   "id": "4cf224a0",
   "metadata": {},
   "outputs": [
    {
     "name": "stdout",
     "output_type": "stream",
     "text": [
      "Cost of Goods sold: 6293.0\n"
     ]
    }
   ],
   "source": [
    "cogs = merged_data['Cost'].sum()\n",
    "print(\"Cost of Goods sold:\", cogs)"
   ]
  },
  {
   "cell_type": "code",
   "execution_count": 175,
   "id": "4e68025f",
   "metadata": {},
   "outputs": [
    {
     "name": "stdout",
     "output_type": "stream",
     "text": [
      "Total Profit: 1613.0\n"
     ]
    }
   ],
   "source": [
    "total_profit=merged_data['Profit'].sum()\n",
    "print(\"Total Profit:\", total_profit)"
   ]
  },
  {
   "cell_type": "code",
   "execution_count": null,
   "id": "26bb94a7",
   "metadata": {},
   "outputs": [],
   "source": [
    "merged_data.to_excel('merged_data.xlsx', index=False)"
   ]
  },
  {
   "cell_type": "code",
   "execution_count": 62,
   "id": "b2056f59",
   "metadata": {},
   "outputs": [],
   "source": [
    "super_stacker_sales = merged_data[merged_data['Item'] == 'Super Stacker Coronary Burger']"
   ]
  },
  {
   "cell_type": "code",
   "execution_count": 63,
   "id": "6abbbbdf",
   "metadata": {},
   "outputs": [],
   "source": [
    "sales_by_weekday_super = super_stacker_sales.groupby('Weekday')['Total Sale'].sum().reset_index()\n",
    "sales_by_weekday_super.sort_values(by=['Total Sale'], ascending=False, inplace=True)"
   ]
  },
  {
   "cell_type": "code",
   "execution_count": 64,
   "id": "cb1e5868",
   "metadata": {},
   "outputs": [
    {
     "data": {
      "text/html": [
       "<div>\n",
       "<style scoped>\n",
       "    .dataframe tbody tr th:only-of-type {\n",
       "        vertical-align: middle;\n",
       "    }\n",
       "\n",
       "    .dataframe tbody tr th {\n",
       "        vertical-align: top;\n",
       "    }\n",
       "\n",
       "    .dataframe thead th {\n",
       "        text-align: right;\n",
       "    }\n",
       "</style>\n",
       "<table border=\"1\" class=\"dataframe\">\n",
       "  <thead>\n",
       "    <tr style=\"text-align: right;\">\n",
       "      <th></th>\n",
       "      <th>Weekday</th>\n",
       "      <th>Total Sale</th>\n",
       "    </tr>\n",
       "  </thead>\n",
       "  <tbody>\n",
       "    <tr>\n",
       "      <th>5</th>\n",
       "      <td>Tuesday</td>\n",
       "      <td>1932</td>\n",
       "    </tr>\n",
       "    <tr>\n",
       "      <th>2</th>\n",
       "      <td>Saturday</td>\n",
       "      <td>56</td>\n",
       "    </tr>\n",
       "    <tr>\n",
       "      <th>4</th>\n",
       "      <td>Thursday</td>\n",
       "      <td>42</td>\n",
       "    </tr>\n",
       "    <tr>\n",
       "      <th>1</th>\n",
       "      <td>Monday</td>\n",
       "      <td>28</td>\n",
       "    </tr>\n",
       "    <tr>\n",
       "      <th>0</th>\n",
       "      <td>Friday</td>\n",
       "      <td>14</td>\n",
       "    </tr>\n",
       "    <tr>\n",
       "      <th>3</th>\n",
       "      <td>Sunday</td>\n",
       "      <td>14</td>\n",
       "    </tr>\n",
       "  </tbody>\n",
       "</table>\n",
       "</div>"
      ],
      "text/plain": [
       "    Weekday  Total Sale\n",
       "5   Tuesday        1932\n",
       "2  Saturday          56\n",
       "4  Thursday          42\n",
       "1    Monday          28\n",
       "0    Friday          14\n",
       "3    Sunday          14"
      ]
     },
     "execution_count": 64,
     "metadata": {},
     "output_type": "execute_result"
    }
   ],
   "source": [
    "sales_by_weekday_super"
   ]
  },
  {
   "cell_type": "code",
   "execution_count": 73,
   "id": "8f779a7a",
   "metadata": {},
   "outputs": [
    {
     "data": {
      "image/png": "[encoded data removed]",
      "text/plain": [
       "<Figure size 1000x600 with 1 Axes>"
      ]
     },
     "metadata": {},
     "output_type": "display_data"
    }
   ],
   "source": [
    "plt.figure(figsize=(10, 6))\n",
    "ax=sns.barplot(x='Weekday', y='Total Sale', data=sales_by_weekday_super)\n",
    "for bars in ax.containers:\n",
    "    ax.bar_label(bars)\n",
    "plt.title(\"Total Sale on weekly basis\")\n",
    "plt.show()"
   ]
  },
  {
   "cell_type": "code",
   "execution_count": 155,
   "id": "8c54cc85",
   "metadata": {},
   "outputs": [
    {
     "data": {
      "image/png": "[encoded data removed]",
      "text/plain": [
       "<Figure size 640x480 with 1 Axes>"
      ]
     },
     "metadata": {},
     "output_type": "display_data"
    }
   ],
   "source": [
    "plt.pie(sales_by_weekday_super['Total Sale'], autopct='%1.1f%%')\n",
    "plt.show()"
   ]
  },
  {
   "cell_type": "code",
   "execution_count": 128,
   "id": "2bdc2b99",
   "metadata": {},
   "outputs": [
    {
     "data": {
      "text/plain": [
       "<Figure size 1000x1000 with 0 Axes>"
      ]
     },
     "metadata": {},
     "output_type": "display_data"
    },
    {
     "data": {
      "image/png": "[encoded data removed]",
      "text/plain": [
       "<Figure size 600x600 with 1 Axes>"
      ]
     },
     "metadata": {},
     "output_type": "display_data"
    }
   ],
   "source": [
    "plt.figure(figsize=(10, 10))\n",
    "weekdays = sales_by_weekday_super['Weekday']\n",
    "total_sales = sales_by_weekday_super['Total Sale']\n",
    "\n",
    "# Plotting the pie chart\n",
    "explode = [.1, .1, .1, .1, .5, .5]\n",
    "plt.figure(figsize=(6, 6))  # Adjust figure size if needed\n",
    "plt.pie(total_sales, labels=weekdays, autopct='%1.1f%%', startangle=140, explode=explode)\n",
    "plt.title(\"Distribution of Super Stacker Coronary Burger\")\n",
    "plt.axis('equal')  # Equal aspect ratio ensures that pie is drawn as a circle\n",
    "plt.show()"
   ]
  },
  {
   "cell_type": "code",
   "execution_count": 67,
   "id": "7848e9d2",
   "metadata": {},
   "outputs": [],
   "source": [
    "bacon_sales = merged_data[merged_data['Item'] == 'Bacon Burger']"
   ]
  },
  {
   "cell_type": "code",
   "execution_count": 68,
   "id": "385d7526",
   "metadata": {},
   "outputs": [],
   "source": [
    "sales_by_weekday_bacon = bacon_sales.groupby('Weekday')['Total Sale'].sum().reset_index()\n",
    "sales_by_weekday_bacon.sort_values(by=['Total Sale'], ascending=False, inplace=True)"
   ]
  },
  {
   "cell_type": "code",
   "execution_count": 69,
   "id": "ea67f366",
   "metadata": {
    "scrolled": true
   },
   "outputs": [
    {
     "data": {
      "text/html": [
       "<div>\n",
       "<style scoped>\n",
       "    .dataframe tbody tr th:only-of-type {\n",
       "        vertical-align: middle;\n",
       "    }\n",
       "\n",
       "    .dataframe tbody tr th {\n",
       "        vertical-align: top;\n",
       "    }\n",
       "\n",
       "    .dataframe thead th {\n",
       "        text-align: right;\n",
       "    }\n",
       "</style>\n",
       "<table border=\"1\" class=\"dataframe\">\n",
       "  <thead>\n",
       "    <tr style=\"text-align: right;\">\n",
       "      <th></th>\n",
       "      <th>Weekday</th>\n",
       "      <th>Total Sale</th>\n",
       "    </tr>\n",
       "  </thead>\n",
       "  <tbody>\n",
       "    <tr>\n",
       "      <th>1</th>\n",
       "      <td>Monday</td>\n",
       "      <td>880</td>\n",
       "    </tr>\n",
       "    <tr>\n",
       "      <th>4</th>\n",
       "      <td>Thursday</td>\n",
       "      <td>110</td>\n",
       "    </tr>\n",
       "    <tr>\n",
       "      <th>2</th>\n",
       "      <td>Saturday</td>\n",
       "      <td>90</td>\n",
       "    </tr>\n",
       "    <tr>\n",
       "      <th>0</th>\n",
       "      <td>Friday</td>\n",
       "      <td>80</td>\n",
       "    </tr>\n",
       "    <tr>\n",
       "      <th>6</th>\n",
       "      <td>Wednesday</td>\n",
       "      <td>70</td>\n",
       "    </tr>\n",
       "    <tr>\n",
       "      <th>3</th>\n",
       "      <td>Sunday</td>\n",
       "      <td>60</td>\n",
       "    </tr>\n",
       "    <tr>\n",
       "      <th>5</th>\n",
       "      <td>Tuesday</td>\n",
       "      <td>60</td>\n",
       "    </tr>\n",
       "  </tbody>\n",
       "</table>\n",
       "</div>"
      ],
      "text/plain": [
       "     Weekday  Total Sale\n",
       "1     Monday         880\n",
       "4   Thursday         110\n",
       "2   Saturday          90\n",
       "0     Friday          80\n",
       "6  Wednesday          70\n",
       "3     Sunday          60\n",
       "5    Tuesday          60"
      ]
     },
     "execution_count": 69,
     "metadata": {},
     "output_type": "execute_result"
    }
   ],
   "source": [
    "sales_by_weekday_bacon"
   ]
  },
  {
   "cell_type": "code",
   "execution_count": 70,
   "id": "3a80e6ca",
   "metadata": {},
   "outputs": [
    {
     "data": {
      "image/png": "[encoded data removed]",
      "text/plain": [
       "<Figure size 1000x600 with 1 Axes>"
      ]
     },
     "metadata": {},
     "output_type": "display_data"
    }
   ],
   "source": [
    "plt.figure(figsize=(10, 6))\n",
    "ax=sns.barplot(x='Weekday', y='Total Sale', data=sales_by_weekday_bacon)\n",
    "for bars in ax.containers:\n",
    "    ax.bar_label(bars)\n",
    "plt.title(\"Total Sale on weekly basis\")\n",
    "plt.show()"
   ]
  },
  {
   "cell_type": "code",
   "execution_count": 151,
   "id": "59beb9f1",
   "metadata": {},
   "outputs": [
    {
     "data": {
      "image/png": "[encoded data removed]",
      "text/plain": [
       "<Figure size 800x600 with 1 Axes>"
      ]
     },
     "metadata": {},
     "output_type": "display_data"
    }
   ],
   "source": [
    "plt.figure(figsize=(8, 6))\n",
    "weekdays=sales_by_weekday_bacon['Weekday']\n",
    "plt.pie(sales_by_weekday_bacon['Total Sale'], autopct='%1.1f%%', labels=weekdays)\n",
    "plt.title(\"Sales Distribution of Bacon Burger\")\n",
    "plt.show()"
   ]
  },
  {
   "cell_type": "code",
   "execution_count": 76,
   "id": "2d0922b3",
   "metadata": {},
   "outputs": [
    {
     "data": {
      "image/png": "[encoded data removed]",
      "text/plain": [
       "<Figure size 800x800 with 1 Axes>"
      ]
     },
     "metadata": {},
     "output_type": "display_data"
    }
   ],
   "source": [
    "weekdays = sales_by_weekday_super['Weekday']\n",
    "total_sales = sales_by_weekday_super['Total Sale']\n",
    "\n",
    "# Plotting the pie chart\n",
    "plt.figure(figsize=(8, 8))  # Adjust figure size if needed\n",
    "plt.pie(total_sales, labels=weekdays, autopct='%1.1f%%', startangle=140)\n",
    "plt.title(\"Percentage of Total Sales by Weekday\")\n",
    "plt.axis('equal')  # Equal aspect ratio ensures that pie is drawn as a circle\n",
    "plt.show()"
   ]
  },
  {
   "cell_type": "code",
   "execution_count": null,
   "id": "f939885c",
   "metadata": {},
   "outputs": [],
   "source": [
    "merged_data['Datetime'] = pd.to_datetime(merged_data['Date']) + pd.to_timedelta(merged_data['Hour'], unit='h') + pd.to_timedelta(merged_data['Minute'], unit='m')\n",
    "\n",
    "# Filter data for a specific date, e.g., '2007-11-01'\n",
    "specific_day = merged_data[merged_data['Date'] == '2007-11-01']\n",
    "\n",
    "# Define burger and beverage/shake items\n",
    "burger_items = ['Super Burger', 'Super Stacker Coronary Burger', 'Plain Burger', 'Bacon Burger', 'Cheese Burger Combo']\n",
    "beverage_shake_items = ['Beverage', 'Shake']\n",
    "\n",
    "# Separate the data for burgers and beverages/shakes\n",
    "burgers = specific_day[specific_day['Item'].isin(burger_items)]\n",
    "beverages_shakes = specific_day[specific_day['Item'].isin(beverage_shake_items)]\n",
    "\n",
    "# Aggregate sales by minute\n",
    "burger_sales = burgers.groupby('Datetime').size().resample('T').sum()\n",
    "beverage_shake_sales = beverages_shakes.groupby('Datetime').size().resample('T').sum()\n",
    "\n",
    "# Plot the data\n",
    "plt.figure(figsize=(14, 7))\n",
    "plt.plot(burger_sales.index, burger_sales.values, label='Burger Sales', color='blue')\n",
    "plt.plot(beverage_shake_sales.index, beverage_shake_sales.values, label='Beverage/Shake Sales', color='orange')\n",
    "plt.xlabel('Time')\n",
    "plt.ylabel('Number of Sales')\n",
    "plt.title('Sales Trends for Burgers and Beverages/Shakes on 2007-11-01')\n",
    "plt.legend()\n",
    "plt.xticks(rotation=45)\n",
    "plt.grid(True)\n",
    "plt.show()"
   ]
  },
  {
   "cell_type": "code",
   "execution_count": null,
   "id": "3777fa80",
   "metadata": {},
   "outputs": [],
   "source": [
    "burger_items = ['Plain Burger', 'Super Burger', 'Super Stacker Coronary Burger', 'Bacon Burger']\n",
    "beverage_items = ['Beverage', 'Shake']"
   ]
  },
  {
   "cell_type": "code",
   "execution_count": null,
   "id": "3d7208f6",
   "metadata": {},
   "outputs": [],
   "source": [
    "merged_data['IsBurger'] = merged_data['Item'].isin(burger_items)\n",
    "merged_data['IsBeverage'] = merged_data['Item'].isin(beverage_items)"
   ]
  },
  {
   "cell_type": "code",
   "execution_count": null,
   "id": "cb58910b",
   "metadata": {},
   "outputs": [],
   "source": [
    "merged_data.sample(10)"
   ]
  },
  {
   "cell_type": "code",
   "execution_count": null,
   "id": "96c2c88b",
   "metadata": {},
   "outputs": [],
   "source": [
    "merged_data['DateOnly'] = merged_data['Date'].dt.date.astype(str)"
   ]
  },
  {
   "cell_type": "code",
   "execution_count": null,
   "id": "325f39ea",
   "metadata": {},
   "outputs": [],
   "source": [
    "merged_data['TransactionID'] = merged_data['DateOnly'] + ' ' + merged_data['Hour'].astype(str) + ':' + merged_data['Minute'].astype(str)"
   ]
  },
  {
   "cell_type": "code",
   "execution_count": null,
   "id": "59c4972d",
   "metadata": {},
   "outputs": [],
   "source": [
    "merged_data.head()"
   ]
  },
  {
   "cell_type": "code",
   "execution_count": null,
   "id": "17dc9a59",
   "metadata": {},
   "outputs": [],
   "source": [
    "burger_items = ['Plain Burger', 'Super Burger', 'Super Stacker Coronary Burger', 'Bacon Burger']\n",
    "beverage_items = ['Carbonated Beverage', 'Shake']"
   ]
  },
  {
   "cell_type": "code",
   "execution_count": null,
   "id": "5f548742",
   "metadata": {},
   "outputs": [],
   "source": [
    "merged_data['IsBurger'] = merged_data['Item'].isin(burger_items)\n",
    "merged_data['IsBeverage'] = merged_data['Item'].isin(beverage_items)"
   ]
  },
  {
   "cell_type": "code",
   "execution_count": null,
   "id": "58aa40d1",
   "metadata": {},
   "outputs": [],
   "source": [
    "merged_data.sample(10)"
   ]
  },
  {
   "cell_type": "code",
   "execution_count": null,
   "id": "0dfbbfd4",
   "metadata": {},
   "outputs": [],
   "source": [
    "grouped = merged_data.groupby('TransactionID').agg({\n",
    "    'IsBurger': 'max',  \n",
    "    'IsBeverage': 'max'\n",
    "}).reset_index()"
   ]
  },
  {
   "cell_type": "code",
   "execution_count": null,
   "id": "457beded",
   "metadata": {},
   "outputs": [],
   "source": [
    "transactions_with_both = grouped[(grouped['IsBurger']) & (grouped['IsBeverage'])]"
   ]
  },
  {
   "cell_type": "code",
   "execution_count": null,
   "id": "a76a379d",
   "metadata": {},
   "outputs": [],
   "source": [
    "unique_transactions = transactions_with_both['TransactionID'].nunique()\n",
    "print(f\"Number of transactions with both burgers and beverages: {unique_transactions}\")"
   ]
  },
  {
   "cell_type": "code",
   "execution_count": null,
   "id": "25a3c934",
   "metadata": {},
   "outputs": [],
   "source": []
  }
 ],
 "metadata": {
  "kernelspec": {
   "display_name": "Python 3 (ipykernel)",
   "language": "python",
   "name": "python3"
  },
  "language_info": {
   "codemirror_mode": {
    "name": "ipython",
    "version": 3
   },
   "file_extension": ".py",
   "mimetype": "text/x-python",
   "name": "python",
   "nbconvert_exporter": "python",
   "pygments_lexer": "ipython3",
   "version": "3.11.4"
  }
 },
 "nbformat": 4,
 "nbformat_minor": 5
}
